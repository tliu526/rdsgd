{
 "cells": [
  {
   "cell_type": "markdown",
   "metadata": {},
   "source": [
    "# Description\n",
    "\n",
    "Notebook for processing multi-dimensional simulated case, Table 1."
   ]
  },
  {
   "cell_type": "markdown",
   "metadata": {},
   "source": [
    "# Imports"
   ]
  },
  {
   "cell_type": "code",
   "execution_count": 2,
   "metadata": {},
   "outputs": [],
   "source": [
    "import matplotlib.pyplot as plt\n",
    "import matplotlib.patches as mpatches\n",
    "import multiprocessing\n",
    "import numpy as np\n",
    "import os\n",
    "import pandas as pd\n",
    "import pingouin as pg\n",
    "\n",
    "\n",
    "import pickle\n",
    "import seaborn as sns\n",
    "import sklearn\n",
    "import sys\n",
    "from tqdm import tqdm\n",
    "\n",
    "# to hide warnings for pretty notebook rendering in repo\n",
    "import warnings\n",
    "warnings.filterwarnings('ignore')\n",
    "\n",
    "# user imports\n",
    "sys.path.append(\"../src/rdd-discovery\")\n",
    "\n",
    "from utils.sim import *\n",
    "from utils.rddd import *\n",
    "from utils.pwr import *"
   ]
  },
  {
   "cell_type": "code",
   "execution_count": 3,
   "metadata": {},
   "outputs": [],
   "source": [
    "results = pickle.load(open(\"../data/multidim.pkl\", \"rb\"))"
   ]
  },
  {
   "cell_type": "code",
   "execution_count": 4,
   "metadata": {},
   "outputs": [
    {
     "name": "stdout",
     "output_type": "stream",
     "text": [
      "n_feat: 2\n",
      "\tlower_all: 0.820 +/- 0.154\n",
      "\tupper_all: 0.800 +/- 0.157\n",
      "\tlower_max: 0.841 +/- 0.150\n",
      "\tupper_max: 0.816 +/- 0.157\n",
      "n_feat: 4\n",
      "\tlower_all: 0.791 +/- 0.146\n",
      "\tupper_all: 0.791 +/- 0.155\n",
      "\tlower_max: 0.807 +/- 0.142\n",
      "\tupper_max: 0.803 +/- 0.154\n",
      "n_feat: 8\n",
      "\tlower_all: 0.771 +/- 0.150\n",
      "\tupper_all: 0.776 +/- 0.158\n",
      "\tlower_max: 0.779 +/- 0.149\n",
      "\tupper_max: 0.785 +/- 0.156\n",
      "n_feat: 16\n",
      "\tlower_all: 0.787 +/- 0.155\n",
      "\tupper_all: 0.778 +/- 0.155\n",
      "\tlower_max: 0.789 +/- 0.154\n",
      "\tupper_max: 0.780 +/- 0.155\n"
     ]
    }
   ],
   "source": [
    "for n_feat, res in results:\n",
    "    print(\"n_feat: {}\".format(n_feat))\n",
    "    for k, v in res.items():\n",
    "        print(\"\\t{}: {:.3f} +/- {:.3f}\".format(k, np.mean(v), np.std(v)))"
   ]
  }
 ],
 "metadata": {
  "hide_input": false,
  "kernelspec": {
   "display_name": "Python 3 (ipykernel)",
   "language": "python",
   "name": "python3"
  },
  "language_info": {
   "codemirror_mode": {
    "name": "ipython",
    "version": 3
   },
   "file_extension": ".py",
   "mimetype": "text/x-python",
   "name": "python",
   "nbconvert_exporter": "python",
   "pygments_lexer": "ipython3",
   "version": "3.9.12"
  },
  "varInspector": {
   "cols": {
    "lenName": 16,
    "lenType": 16,
    "lenVar": 40
   },
   "kernels_config": {
    "python": {
     "delete_cmd_postfix": "",
     "delete_cmd_prefix": "del ",
     "library": "var_list.py",
     "varRefreshCmd": "print(var_dic_list())"
    },
    "r": {
     "delete_cmd_postfix": ") ",
     "delete_cmd_prefix": "rm(",
     "library": "var_list.r",
     "varRefreshCmd": "cat(var_dic_list()) "
    }
   },
   "types_to_exclude": [
    "module",
    "function",
    "builtin_function_or_method",
    "instance",
    "_Feature"
   ],
   "window_display": false
  },
  "vscode": {
   "interpreter": {
    "hash": "c5e384680b37c811d5c050863cd2e1b7b7fb22fa41e6ef4def208bf90ddd8ddd"
   }
  }
 },
 "nbformat": 4,
 "nbformat_minor": 2
}
