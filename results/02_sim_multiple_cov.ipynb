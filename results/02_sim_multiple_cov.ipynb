{
 "cells": [
  {
   "cell_type": "markdown",
   "metadata": {},
   "source": [
    "# Description\n",
    "\n",
    "Notebook for multiple covariate simulation results (Section 5)."
   ]
  },
  {
   "cell_type": "markdown",
   "metadata": {},
   "source": [
    "# Imports"
   ]
  },
  {
   "cell_type": "code",
   "execution_count": 1,
   "metadata": {},
   "outputs": [],
   "source": [
    "# to hide warnings for pretty notebook rendering in repo\n",
    "import warnings\n",
    "warnings.filterwarnings('ignore')\n",
    "\n",
    "\n",
    "import matplotlib.pyplot as plt\n",
    "import matplotlib.patches as mpatches\n",
    "import multiprocessing\n",
    "import numpy as np\n",
    "import os\n",
    "import pandas as pd\n",
    "import pingouin as pg\n",
    "\n",
    "\n",
    "import pickle\n",
    "import seaborn as sns\n",
    "import sklearn\n",
    "import sys\n",
    "from tqdm import tqdm\n",
    "\n",
    "\n",
    "# user imports\n",
    "sys.path.append(\"../src/rdd-discovery/\")\n",
    "\n",
    "from utils.sim import *\n",
    "from utils.rddd import *\n",
    "from utils.pwr import *"
   ]
  },
  {
   "cell_type": "markdown",
   "metadata": {},
   "source": [
    "# Load data"
   ]
  },
  {
   "cell_type": "code",
   "execution_count": 2,
   "metadata": {},
   "outputs": [],
   "source": [
    "all_pwr_dict = pickle.load(open(\"../data/multdim_pwr_xgrid.dict\", \"rb\"))"
   ]
  },
  {
   "cell_type": "code",
   "execution_count": 3,
   "metadata": {},
   "outputs": [
    {
     "name": "stdout",
     "output_type": "stream",
     "text": [
      "# feats: 2\n",
      "lower all power: 0.794 +/- 0.161\n",
      "upper all power: 0.792 +/- 0.155\n",
      "lower max power: 0.839 +/- 0.155\n",
      "upper max power: 0.826 +/- 0.154\n",
      "# feats: 4\n",
      "lower all power: 0.777 +/- 0.149\n",
      "upper all power: 0.776 +/- 0.157\n",
      "lower max power: 0.813 +/- 0.144\n",
      "upper max power: 0.809 +/- 0.154\n",
      "# feats: 8\n",
      "lower all power: 0.752 +/- 0.151\n",
      "upper all power: 0.764 +/- 0.155\n",
      "lower max power: 0.781 +/- 0.148\n",
      "upper max power: 0.790 +/- 0.152\n",
      "# feats: 16\n",
      "lower all power: 0.747 +/- 0.149\n",
      "upper all power: 0.750 +/- 0.155\n",
      "lower max power: 0.783 +/- 0.148\n",
      "upper max power: 0.766 +/- 0.156\n"
     ]
    }
   ],
   "source": [
    "n_feats = [2, 4, 8, 16]\n",
    "for n_feat in n_feats:\n",
    "    pwr_dict = all_pwr_dict[n_feat]\n",
    "    print(\"# feats: {}\".format(n_feat))\n",
    "    for label in [\"all\", \"max\"]:\n",
    "        print(\"lower {} power: {:.3f} +/- {:.3f}\".format(\n",
    "            label,\n",
    "            np.mean(pwr_dict[\"lower_{}\".format(label)]),\n",
    "            np.std(pwr_dict[\"lower_{}\".format(label)])\n",
    "        ))\n",
    "        \n",
    "        print(\"upper {} power: {:.3f} +/- {:.3f}\".format(\n",
    "            label,\n",
    "            np.mean(pwr_dict[\"upper_{}\".format(label)]),\n",
    "            np.std(pwr_dict[\"upper_{}\".format(label)])\n",
    "        ))"
   ]
  },
  {
   "cell_type": "markdown",
   "metadata": {},
   "source": [
    "# Oracle power"
   ]
  },
  {
   "cell_type": "code",
   "execution_count": 4,
   "metadata": {},
   "outputs": [],
   "source": [
    "take = 0.05\n",
    "alpha = 0.05 / len(np.arange(0.05, 0.96, 0.05)) \n",
    "lower_cutoff = 0.25\n",
    "upper_cutoff = 0.75\n",
    "n_samples = 1000\n",
    "fuzzy_gap = 0.5\n",
    "const = 0.2"
   ]
  },
  {
   "cell_type": "markdown",
   "metadata": {},
   "source": [
    "## Baseline"
   ]
  },
  {
   "cell_type": "code",
   "execution_count": 5,
   "metadata": {},
   "outputs": [
    {
     "name": "stdout",
     "output_type": "stream",
     "text": [
      "lower baseline power: 0.523\n",
      "upper baseline power: 0.484\n"
     ]
    }
   ],
   "source": [
    "u_ptake_lower = const + (take*upper_cutoff) + fuzzy_gap/2\n",
    "u_ptake_upper = const + (take*upper_cutoff) + fuzzy_gap\n",
    "\n",
    "l_ptake_lower = const + (take*lower_cutoff)\n",
    "l_ptake_upper = const + (take*lower_cutoff) + fuzzy_gap/2\n",
    "\n",
    "\n",
    "l_var = first_stage_asymp_var(l_ptake_lower, l_ptake_upper, n_samples, n_samples//2)\n",
    "u_var = first_stage_asymp_var(u_ptake_lower, u_ptake_upper, n_samples, n_samples//2)\n",
    "\n",
    "\n",
    "bl_lower_pwr = rdd_power(fuzzy_gap/2, var=l_var, alpha=alpha)\n",
    "bl_upper_pwr = rdd_power(fuzzy_gap/2, var=u_var, alpha=alpha)\n",
    "\n",
    "print(\"lower baseline power: {:.3f}\".format(bl_lower_pwr))\n",
    "print(\"upper baseline power: {:.3f}\".format(bl_upper_pwr))"
   ]
  },
  {
   "cell_type": "markdown",
   "metadata": {},
   "source": [
    "## With heterogeneity"
   ]
  },
  {
   "cell_type": "code",
   "execution_count": 6,
   "metadata": {},
   "outputs": [
    {
     "name": "stdout",
     "output_type": "stream",
     "text": [
      "lower baseline power: 0.942\n",
      "upper baseline power: 0.931\n"
     ]
    }
   ],
   "source": [
    "u_ptake_lower = const + (take*upper_cutoff) + fuzzy_gap\n",
    "u_ptake_upper = const + (take*upper_cutoff) + fuzzy_gap\n",
    "\n",
    "l_ptake_lower = const + (take*lower_cutoff)\n",
    "l_ptake_upper = const + (take*lower_cutoff) + fuzzy_gap\n",
    "\n",
    "\n",
    "l_var = first_stage_asymp_var(l_ptake_lower, l_ptake_upper, n_samples, n_samples//4)\n",
    "u_var = first_stage_asymp_var(u_ptake_lower, u_ptake_upper, n_samples, n_samples//4)\n",
    "\n",
    "print(\"lower baseline power: {:.3f}\".format(rdd_power(fuzzy_gap, var=l_var, alpha=alpha)))\n",
    "print(\"upper baseline power: {:.3f}\".format(rdd_power(fuzzy_gap, var=u_var, alpha=alpha)))"
   ]
  },
  {
   "cell_type": "markdown",
   "metadata": {},
   "source": [
    "# t-tests against baseline oracle power"
   ]
  },
  {
   "cell_type": "code",
   "execution_count": 7,
   "metadata": {},
   "outputs": [
    {
     "name": "stdout",
     "output_type": "stream",
     "text": [
      "# feats: 2\n"
     ]
    },
    {
     "data": {
      "text/html": [
       "<div>\n",
       "<style scoped>\n",
       "    .dataframe tbody tr th:only-of-type {\n",
       "        vertical-align: middle;\n",
       "    }\n",
       "\n",
       "    .dataframe tbody tr th {\n",
       "        vertical-align: top;\n",
       "    }\n",
       "\n",
       "    .dataframe thead th {\n",
       "        text-align: right;\n",
       "    }\n",
       "</style>\n",
       "<table border=\"1\" class=\"dataframe\">\n",
       "  <thead>\n",
       "    <tr style=\"text-align: right;\">\n",
       "      <th></th>\n",
       "      <th>T</th>\n",
       "      <th>dof</th>\n",
       "      <th>alternative</th>\n",
       "      <th>p-val</th>\n",
       "      <th>CI95%</th>\n",
       "      <th>cohen-d</th>\n",
       "      <th>BF10</th>\n",
       "      <th>power</th>\n",
       "    </tr>\n",
       "  </thead>\n",
       "  <tbody>\n",
       "    <tr>\n",
       "      <th>T-test</th>\n",
       "      <td>43.564508</td>\n",
       "      <td>664</td>\n",
       "      <td>two-sided</td>\n",
       "      <td>7.493123e-197</td>\n",
       "      <td>[0.78, 0.81]</td>\n",
       "      <td>1.689359</td>\n",
       "      <td>6.158e+192</td>\n",
       "      <td>1.0</td>\n",
       "    </tr>\n",
       "  </tbody>\n",
       "</table>\n",
       "</div>"
      ],
      "text/plain": [
       "                T  dof alternative          p-val         CI95%   cohen-d  \\\n",
       "T-test  43.564508  664   two-sided  7.493123e-197  [0.78, 0.81]  1.689359   \n",
       "\n",
       "              BF10  power  \n",
       "T-test  6.158e+192    1.0  "
      ]
     },
     "metadata": {},
     "output_type": "display_data"
    },
    {
     "data": {
      "text/html": [
       "<div>\n",
       "<style scoped>\n",
       "    .dataframe tbody tr th:only-of-type {\n",
       "        vertical-align: middle;\n",
       "    }\n",
       "\n",
       "    .dataframe tbody tr th {\n",
       "        vertical-align: top;\n",
       "    }\n",
       "\n",
       "    .dataframe thead th {\n",
       "        text-align: right;\n",
       "    }\n",
       "</style>\n",
       "<table border=\"1\" class=\"dataframe\">\n",
       "  <thead>\n",
       "    <tr style=\"text-align: right;\">\n",
       "      <th></th>\n",
       "      <th>T</th>\n",
       "      <th>dof</th>\n",
       "      <th>alternative</th>\n",
       "      <th>p-val</th>\n",
       "      <th>CI95%</th>\n",
       "      <th>cohen-d</th>\n",
       "      <th>BF10</th>\n",
       "      <th>power</th>\n",
       "    </tr>\n",
       "  </thead>\n",
       "  <tbody>\n",
       "    <tr>\n",
       "      <th>T-test</th>\n",
       "      <td>50.458868</td>\n",
       "      <td>646</td>\n",
       "      <td>two-sided</td>\n",
       "      <td>2.717053e-226</td>\n",
       "      <td>[0.78, 0.8]</td>\n",
       "      <td>1.983743</td>\n",
       "      <td>1.44e+222</td>\n",
       "      <td>1.0</td>\n",
       "    </tr>\n",
       "  </tbody>\n",
       "</table>\n",
       "</div>"
      ],
      "text/plain": [
       "                T  dof alternative          p-val        CI95%   cohen-d  \\\n",
       "T-test  50.458868  646   two-sided  2.717053e-226  [0.78, 0.8]  1.983743   \n",
       "\n",
       "             BF10  power  \n",
       "T-test  1.44e+222    1.0  "
      ]
     },
     "metadata": {},
     "output_type": "display_data"
    },
    {
     "name": "stdout",
     "output_type": "stream",
     "text": [
      "# feats: 4\n"
     ]
    },
    {
     "data": {
      "text/html": [
       "<div>\n",
       "<style scoped>\n",
       "    .dataframe tbody tr th:only-of-type {\n",
       "        vertical-align: middle;\n",
       "    }\n",
       "\n",
       "    .dataframe tbody tr th {\n",
       "        vertical-align: top;\n",
       "    }\n",
       "\n",
       "    .dataframe thead th {\n",
       "        text-align: right;\n",
       "    }\n",
       "</style>\n",
       "<table border=\"1\" class=\"dataframe\">\n",
       "  <thead>\n",
       "    <tr style=\"text-align: right;\">\n",
       "      <th></th>\n",
       "      <th>T</th>\n",
       "      <th>dof</th>\n",
       "      <th>alternative</th>\n",
       "      <th>p-val</th>\n",
       "      <th>CI95%</th>\n",
       "      <th>cohen-d</th>\n",
       "      <th>BF10</th>\n",
       "      <th>power</th>\n",
       "    </tr>\n",
       "  </thead>\n",
       "  <tbody>\n",
       "    <tr>\n",
       "      <th>T-test</th>\n",
       "      <td>39.210551</td>\n",
       "      <td>531</td>\n",
       "      <td>two-sided</td>\n",
       "      <td>6.474441e-159</td>\n",
       "      <td>[0.76, 0.79]</td>\n",
       "      <td>1.699993</td>\n",
       "      <td>8.845e+154</td>\n",
       "      <td>1.0</td>\n",
       "    </tr>\n",
       "  </tbody>\n",
       "</table>\n",
       "</div>"
      ],
      "text/plain": [
       "                T  dof alternative          p-val         CI95%   cohen-d  \\\n",
       "T-test  39.210551  531   two-sided  6.474441e-159  [0.76, 0.79]  1.699993   \n",
       "\n",
       "              BF10  power  \n",
       "T-test  8.845e+154    1.0  "
      ]
     },
     "metadata": {},
     "output_type": "display_data"
    },
    {
     "data": {
      "text/html": [
       "<div>\n",
       "<style scoped>\n",
       "    .dataframe tbody tr th:only-of-type {\n",
       "        vertical-align: middle;\n",
       "    }\n",
       "\n",
       "    .dataframe tbody tr th {\n",
       "        vertical-align: top;\n",
       "    }\n",
       "\n",
       "    .dataframe thead th {\n",
       "        text-align: right;\n",
       "    }\n",
       "</style>\n",
       "<table border=\"1\" class=\"dataframe\">\n",
       "  <thead>\n",
       "    <tr style=\"text-align: right;\">\n",
       "      <th></th>\n",
       "      <th>T</th>\n",
       "      <th>dof</th>\n",
       "      <th>alternative</th>\n",
       "      <th>p-val</th>\n",
       "      <th>CI95%</th>\n",
       "      <th>cohen-d</th>\n",
       "      <th>BF10</th>\n",
       "      <th>power</th>\n",
       "    </tr>\n",
       "  </thead>\n",
       "  <tbody>\n",
       "    <tr>\n",
       "      <th>T-test</th>\n",
       "      <td>42.590827</td>\n",
       "      <td>524</td>\n",
       "      <td>two-sided</td>\n",
       "      <td>2.663872e-172</td>\n",
       "      <td>[0.76, 0.79]</td>\n",
       "      <td>1.858816</td>\n",
       "      <td>1.956e+168</td>\n",
       "      <td>1.0</td>\n",
       "    </tr>\n",
       "  </tbody>\n",
       "</table>\n",
       "</div>"
      ],
      "text/plain": [
       "                T  dof alternative          p-val         CI95%   cohen-d  \\\n",
       "T-test  42.590827  524   two-sided  2.663872e-172  [0.76, 0.79]  1.858816   \n",
       "\n",
       "              BF10  power  \n",
       "T-test  1.956e+168    1.0  "
      ]
     },
     "metadata": {},
     "output_type": "display_data"
    },
    {
     "name": "stdout",
     "output_type": "stream",
     "text": [
      "# feats: 8\n"
     ]
    },
    {
     "data": {
      "text/html": [
       "<div>\n",
       "<style scoped>\n",
       "    .dataframe tbody tr th:only-of-type {\n",
       "        vertical-align: middle;\n",
       "    }\n",
       "\n",
       "    .dataframe tbody tr th {\n",
       "        vertical-align: top;\n",
       "    }\n",
       "\n",
       "    .dataframe thead th {\n",
       "        text-align: right;\n",
       "    }\n",
       "</style>\n",
       "<table border=\"1\" class=\"dataframe\">\n",
       "  <thead>\n",
       "    <tr style=\"text-align: right;\">\n",
       "      <th></th>\n",
       "      <th>T</th>\n",
       "      <th>dof</th>\n",
       "      <th>alternative</th>\n",
       "      <th>p-val</th>\n",
       "      <th>CI95%</th>\n",
       "      <th>cohen-d</th>\n",
       "      <th>BF10</th>\n",
       "      <th>power</th>\n",
       "    </tr>\n",
       "  </thead>\n",
       "  <tbody>\n",
       "    <tr>\n",
       "      <th>T-test</th>\n",
       "      <td>31.938334</td>\n",
       "      <td>443</td>\n",
       "      <td>two-sided</td>\n",
       "      <td>5.363356e-117</td>\n",
       "      <td>[0.74, 0.77]</td>\n",
       "      <td>1.515726</td>\n",
       "      <td>1.474e+113</td>\n",
       "      <td>1.0</td>\n",
       "    </tr>\n",
       "  </tbody>\n",
       "</table>\n",
       "</div>"
      ],
      "text/plain": [
       "                T  dof alternative          p-val         CI95%   cohen-d  \\\n",
       "T-test  31.938334  443   two-sided  5.363356e-117  [0.74, 0.77]  1.515726   \n",
       "\n",
       "              BF10  power  \n",
       "T-test  1.474e+113    1.0  "
      ]
     },
     "metadata": {},
     "output_type": "display_data"
    },
    {
     "data": {
      "text/html": [
       "<div>\n",
       "<style scoped>\n",
       "    .dataframe tbody tr th:only-of-type {\n",
       "        vertical-align: middle;\n",
       "    }\n",
       "\n",
       "    .dataframe tbody tr th {\n",
       "        vertical-align: top;\n",
       "    }\n",
       "\n",
       "    .dataframe thead th {\n",
       "        text-align: right;\n",
       "    }\n",
       "</style>\n",
       "<table border=\"1\" class=\"dataframe\">\n",
       "  <thead>\n",
       "    <tr style=\"text-align: right;\">\n",
       "      <th></th>\n",
       "      <th>T</th>\n",
       "      <th>dof</th>\n",
       "      <th>alternative</th>\n",
       "      <th>p-val</th>\n",
       "      <th>CI95%</th>\n",
       "      <th>cohen-d</th>\n",
       "      <th>BF10</th>\n",
       "      <th>power</th>\n",
       "    </tr>\n",
       "  </thead>\n",
       "  <tbody>\n",
       "    <tr>\n",
       "      <th>T-test</th>\n",
       "      <td>35.671418</td>\n",
       "      <td>394</td>\n",
       "      <td>two-sided</td>\n",
       "      <td>1.913488e-125</td>\n",
       "      <td>[0.75, 0.78]</td>\n",
       "      <td>1.794824</td>\n",
       "      <td>3.778e+121</td>\n",
       "      <td>1.0</td>\n",
       "    </tr>\n",
       "  </tbody>\n",
       "</table>\n",
       "</div>"
      ],
      "text/plain": [
       "                T  dof alternative          p-val         CI95%   cohen-d  \\\n",
       "T-test  35.671418  394   two-sided  1.913488e-125  [0.75, 0.78]  1.794824   \n",
       "\n",
       "              BF10  power  \n",
       "T-test  3.778e+121    1.0  "
      ]
     },
     "metadata": {},
     "output_type": "display_data"
    },
    {
     "name": "stdout",
     "output_type": "stream",
     "text": [
      "# feats: 16\n"
     ]
    },
    {
     "data": {
      "text/html": [
       "<div>\n",
       "<style scoped>\n",
       "    .dataframe tbody tr th:only-of-type {\n",
       "        vertical-align: middle;\n",
       "    }\n",
       "\n",
       "    .dataframe tbody tr th {\n",
       "        vertical-align: top;\n",
       "    }\n",
       "\n",
       "    .dataframe thead th {\n",
       "        text-align: right;\n",
       "    }\n",
       "</style>\n",
       "<table border=\"1\" class=\"dataframe\">\n",
       "  <thead>\n",
       "    <tr style=\"text-align: right;\">\n",
       "      <th></th>\n",
       "      <th>T</th>\n",
       "      <th>dof</th>\n",
       "      <th>alternative</th>\n",
       "      <th>p-val</th>\n",
       "      <th>CI95%</th>\n",
       "      <th>cohen-d</th>\n",
       "      <th>BF10</th>\n",
       "      <th>power</th>\n",
       "    </tr>\n",
       "  </thead>\n",
       "  <tbody>\n",
       "    <tr>\n",
       "      <th>T-test</th>\n",
       "      <td>29.994981</td>\n",
       "      <td>397</td>\n",
       "      <td>two-sided</td>\n",
       "      <td>4.390443e-104</td>\n",
       "      <td>[0.73, 0.76]</td>\n",
       "      <td>1.503513</td>\n",
       "      <td>2.03e+100</td>\n",
       "      <td>1.0</td>\n",
       "    </tr>\n",
       "  </tbody>\n",
       "</table>\n",
       "</div>"
      ],
      "text/plain": [
       "                T  dof alternative          p-val         CI95%   cohen-d  \\\n",
       "T-test  29.994981  397   two-sided  4.390443e-104  [0.73, 0.76]  1.503513   \n",
       "\n",
       "             BF10  power  \n",
       "T-test  2.03e+100    1.0  "
      ]
     },
     "metadata": {},
     "output_type": "display_data"
    },
    {
     "data": {
      "text/html": [
       "<div>\n",
       "<style scoped>\n",
       "    .dataframe tbody tr th:only-of-type {\n",
       "        vertical-align: middle;\n",
       "    }\n",
       "\n",
       "    .dataframe tbody tr th {\n",
       "        vertical-align: top;\n",
       "    }\n",
       "\n",
       "    .dataframe thead th {\n",
       "        text-align: right;\n",
       "    }\n",
       "</style>\n",
       "<table border=\"1\" class=\"dataframe\">\n",
       "  <thead>\n",
       "    <tr style=\"text-align: right;\">\n",
       "      <th></th>\n",
       "      <th>T</th>\n",
       "      <th>dof</th>\n",
       "      <th>alternative</th>\n",
       "      <th>p-val</th>\n",
       "      <th>CI95%</th>\n",
       "      <th>cohen-d</th>\n",
       "      <th>BF10</th>\n",
       "      <th>power</th>\n",
       "    </tr>\n",
       "  </thead>\n",
       "  <tbody>\n",
       "    <tr>\n",
       "      <th>T-test</th>\n",
       "      <td>30.916705</td>\n",
       "      <td>323</td>\n",
       "      <td>two-sided</td>\n",
       "      <td>1.566792e-98</td>\n",
       "      <td>[0.73, 0.77]</td>\n",
       "      <td>1.717595</td>\n",
       "      <td>5.937e+94</td>\n",
       "      <td>1.0</td>\n",
       "    </tr>\n",
       "  </tbody>\n",
       "</table>\n",
       "</div>"
      ],
      "text/plain": [
       "                T  dof alternative         p-val         CI95%   cohen-d  \\\n",
       "T-test  30.916705  323   two-sided  1.566792e-98  [0.73, 0.77]  1.717595   \n",
       "\n",
       "             BF10  power  \n",
       "T-test  5.937e+94    1.0  "
      ]
     },
     "metadata": {},
     "output_type": "display_data"
    }
   ],
   "source": [
    "n_feats = [2, 4, 8, 16]\n",
    "for n_feat in n_feats:\n",
    "    pwr_dict = all_pwr_dict[n_feat]\n",
    "    print(\"# feats: {}\".format(n_feat))\n",
    "    for label in [\"lower\", \"upper\"]:\n",
    "        if label == \"lower\":\n",
    "            display(pg.ttest(pwr_dict[\"{}_all\".format(label)], bl_lower_pwr))\n",
    "        else:\n",
    "            display(pg.ttest(pwr_dict[\"{}_all\".format(label)], bl_upper_pwr))"
   ]
  }
 ],
 "metadata": {
  "hide_input": false,
  "kernelspec": {
   "display_name": "Python 3 (ipykernel)",
   "language": "python",
   "name": "python3"
  },
  "language_info": {
   "codemirror_mode": {
    "name": "ipython",
    "version": 3
   },
   "file_extension": ".py",
   "mimetype": "text/x-python",
   "name": "python",
   "nbconvert_exporter": "python",
   "pygments_lexer": "ipython3",
   "version": "3.9.12"
  },
  "varInspector": {
   "cols": {
    "lenName": 16,
    "lenType": 16,
    "lenVar": 40
   },
   "kernels_config": {
    "python": {
     "delete_cmd_postfix": "",
     "delete_cmd_prefix": "del ",
     "library": "var_list.py",
     "varRefreshCmd": "print(var_dic_list())"
    },
    "r": {
     "delete_cmd_postfix": ") ",
     "delete_cmd_prefix": "rm(",
     "library": "var_list.r",
     "varRefreshCmd": "cat(var_dic_list()) "
    }
   },
   "types_to_exclude": [
    "module",
    "function",
    "builtin_function_or_method",
    "instance",
    "_Feature"
   ],
   "window_display": false
  }
 },
 "nbformat": 4,
 "nbformat_minor": 2
}
