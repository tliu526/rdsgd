{
 "cells": [
  {
   "cell_type": "code",
   "execution_count": null,
   "metadata": {},
   "outputs": [],
   "source": [
    "import pandas as pd\n",
    "import numpy as np\n",
    "import scipy as sp\n",
    "import os\n",
    "import math\n",
    "import time\n",
    "import statsmodels.formula.api as smf  # for doing statistical regression\n",
    "import statsmodels.api as sm\n",
    "import statsmodels.discrete.discrete_model as smd\n",
    "\n",
    "from data_functions import *\n",
    "from subset_functions import *\n",
    "from model_functions import *\n",
    "from search_functions import *\n",
    "from analysis_functions import *\n",
    "\n",
    "import matplotlib.pyplot as plt\n",
    "#% matplotlib inline\n",
    "\n",
    "dir_results = '../results'\n",
    "\n",
    "%load_ext autoreload\n",
    "%autoreload 2"
   ]
  },
  {
   "cell_type": "code",
   "execution_count": null,
   "metadata": {},
   "outputs": [],
   "source": [
    "def real_data_RDSS(dir_data, file_json, subsample, plotting_data, verbose_data, obs_model, data_type, f_base, k, verbose_search, plotting_search):\n",
    "\n",
    "    seed = 43\n",
    "    np.random.seed(seed)\n",
    "\n",
    "    # Get data\n",
    "    x, y, z, T, x_cols, inst, discont = data_real(dir_data, file_json, subsample=subsample, plotting=plotting_data, verbose=verbose_data)\n",
    "\n",
    "    # Search for discontinuity\n",
    "    x, x_means, x_stds = normalize_xz(x, z)\n",
    "    llrs, neighs, subsets_best, beta_0_n, beta_1_n, T_fx, llrs_n, llrs_a, centers_n, pivots_best, subset_imax = \\\n",
    "    RDSS_residual(obs_model, T, x, z, f_base=f_base, all_points=False, k=k, verbose=verbose_search, plotting=plotting_search)\n",
    "    x = unnormalize_xz(x, z, x_means, x_stds)\n",
    "\n",
    "    # Plot the best\n",
    "    max_arg = np.argmax(llrs)\n",
    "    plot_neigh(x, z, out=T, out_name='Top subset', neigh=[subset_neigh(neighs[:,max_arg], subsets_best[max_arg]),subset_neigh(neighs[:,max_arg], ~subsets_best[max_arg])])\n",
    "    plt.hist(llrs, bins=100); plt.show()\n",
    "    \n",
    "    return llrs, neighs, subsets_best, beta_0_n, beta_1_n, T_fx, llrs_n, llrs_a, centers_n, pivots_best, subset_imax"
   ]
  },
  {
   "cell_type": "markdown",
   "metadata": {},
   "source": [
    "### TO DO\n",
    "- Rand testing as option\n",
    "- More descriptive outputs of where the significant subsets are"
   ]
  },
  {
   "cell_type": "code",
   "execution_count": null,
   "metadata": {},
   "outputs": [],
   "source": [
    "########################################################################\n",
    "# Blend sim\n",
    "########################################################################\n",
    "\n",
    "# Data\n",
    "dir_data = 'blend_sim'\n",
    "file_json = 'blend_sim.json'\n",
    "subsample = False\n",
    "\n",
    "plotting_data = True\n",
    "verbose_data = True \n",
    "\n",
    "# Search\n",
    "obs_model = 'bernoulli'    # {'normal', 'bernoulli'}\n",
    "data_type ='binary'        # {'cont', 'binary'}\n",
    "f_base    = 'Logit_poly1'  # {'OLS_poly1', 'Logit_poly1',\n",
    "k = 100\n",
    "verbose_search = True\n",
    "plotting_search = True\n",
    "\n",
    "llrs, neighs, subsets_best, beta_0_n, beta_1_n, T_fx, llrs_n, llrs_a, centers_n, pivots_best, subset_imax = \\\n",
    "real_data_RDSS(dir_data, file_json, subsample, plotting_data, verbose_data, obs_model, data_type, f_base, k, verbose_search, plotting_search)"
   ]
  },
  {
   "cell_type": "code",
   "execution_count": null,
   "metadata": {},
   "outputs": [],
   "source": [
    "########################################################################\n",
    "# GPA\n",
    "########################################################################\n",
    "\n",
    "# Data\n",
    "dir_data = 'AcademicProbation_LSO_2010'\n",
    "file_json = 'data_inst.json'\n",
    "subsample = 16834\n",
    "\n",
    "plotting_data = False\n",
    "verbose_data = False\n",
    "\n",
    "# Search\n",
    "obs_model = 'bernoulli'    # {'normal', 'bernoulli'}\n",
    "data_type ='binary'        # {'cont', 'binary'}\n",
    "f_base    = 'Logit_poly1'  # {'OLS_poly1', 'Logit_poly1',\n",
    "k = 100\n",
    "verbose_search = True\n",
    "plotting_search = True\n",
    "\n",
    "llrs, neighs, subsets_best, beta_0_n, beta_1_n, T_fx, llrs_n, llrs_a, centers_n, pivots_best, subset_imax = \\\n",
    "real_data_RDSS(dir_data, file_json, subsample, plotting_data, verbose_data, obs_model, data_type, f_base, k, verbose_search, plotting_search)"
   ]
  },
  {
   "cell_type": "code",
   "execution_count": null,
   "metadata": {},
   "outputs": [],
   "source": [
    "########################################################################\n",
    "# Test Score 2012\n",
    "########################################################################\n",
    "\n",
    "# Data\n",
    "dir_data = 'test_score_2012'\n",
    "file_json = 'data_inst.json'\n",
    "subsample = 2605\n",
    "plotting_data = False\n",
    "verbose_data = False\n",
    "\n",
    "# Search\n",
    "obs_model = 'normal'    # {'normal', 'bernoulli'}\n",
    "data_type = 'cont'        # {'cont', 'binary'}\n",
    "f_base    = 'OLS_poly1'  # {'OLS_poly1', 'Logit_poly1',\n",
    "\n",
    "\n",
    "obs_model = 'bernoulli'    # {'normal', 'bernoulli'}\n",
    "data_type = 'cont'        # {'cont', 'binary'}\n",
    "f_base    = 'Logit_poly1'  # {'OLS_poly1', 'Logit_poly1',\n",
    "\n",
    "k = 100\n",
    "verbose_search = True\n",
    "plotting_search = True\n",
    "\n",
    "llrs, neighs, subsets_best, beta_0_n, beta_1_n, T_fx, llrs_n, llrs_a, centers_n, pivots_best, subset_imax = \\\n",
    "real_data_RDSS(dir_data, file_json, subsample, plotting_data, verbose_data, obs_model, data_type, f_base, k, verbose_search, plotting_search)\n",
    "\n"
   ]
  },
  {
   "cell_type": "code",
   "execution_count": null,
   "metadata": {},
   "outputs": [],
   "source": [
    "########################################################################\n",
    "# ED visits\n",
    "########################################################################\n",
    "\n",
    "# Data\n",
    "dir_data = 'ED_visits'\n",
    "file_json = 'data_inst_self.json'\n",
    "subsample = False\n",
    "plotting_data = False\n",
    "verbose_data = False\n",
    "\n",
    "# Search\n",
    "obs_model = 'normal'       # {'normal', 'bernoulli'}\n",
    "data_type = 'cont'         # {'cont', 'binary'}\n",
    "f_base    = 'OLS_poly3'    # {'OLS_poly1', 'Logit_poly1',\n",
    "k = 100\n",
    "verbose_search = True\n",
    "plotting_search = True\n",
    "\n",
    "llrs, neighs, subsets_best, beta_0_n, beta_1_n, T_fx, llrs_n, llrs_a, centers_n, pivots_best, subset_imax = \\\n",
    "real_data_RDSS(dir_data, file_json, subsample, plotting_data, verbose_data, obs_model, data_type, f_base, k, verbose_search, plotting_search)"
   ]
  },
  {
   "cell_type": "code",
   "execution_count": null,
   "metadata": {},
   "outputs": [],
   "source": [
    "arg_max = np.argmax(llrs)"
   ]
  },
  {
   "cell_type": "code",
   "execution_count": null,
   "metadata": {},
   "outputs": [],
   "source": [
    "x.iloc[np.argsort(llrs)[::-1]].head(10)"
   ]
  },
  {
   "cell_type": "code",
   "execution_count": null,
   "metadata": {},
   "outputs": [],
   "source": [
    "x, y, z, T, x_cols, inst, discont = data_real(dir_data, file_json, subsample=subsample, plotting=plotting_data, verbose=verbose_data)\n",
    "\n",
    "\n",
    "#x[arg_max]"
   ]
  },
  {
   "cell_type": "code",
   "execution_count": null,
   "metadata": {
    "scrolled": true
   },
   "outputs": [],
   "source": [
    "\n",
    "x.iloc[32]"
   ]
  },
  {
   "cell_type": "code",
   "execution_count": null,
   "metadata": {},
   "outputs": [],
   "source": [
    "46 / 12"
   ]
  }
 ],
 "metadata": {
  "hide_input": false,
  "kernelspec": {
   "display_name": "Python 3 (ipykernel)",
   "language": "python",
   "name": "python3"
  },
  "language_info": {
   "codemirror_mode": {
    "name": "ipython",
    "version": 3
   },
   "file_extension": ".py",
   "mimetype": "text/x-python",
   "name": "python",
   "nbconvert_exporter": "python",
   "pygments_lexer": "ipython3",
   "version": "3.9.12"
  },
  "varInspector": {
   "cols": {
    "lenName": 16,
    "lenType": 16,
    "lenVar": 40
   },
   "kernels_config": {
    "python": {
     "delete_cmd_postfix": "",
     "delete_cmd_prefix": "del ",
     "library": "var_list.py",
     "varRefreshCmd": "print(var_dic_list())"
    },
    "r": {
     "delete_cmd_postfix": ") ",
     "delete_cmd_prefix": "rm(",
     "library": "var_list.r",
     "varRefreshCmd": "cat(var_dic_list()) "
    }
   },
   "types_to_exclude": [
    "module",
    "function",
    "builtin_function_or_method",
    "instance",
    "_Feature"
   ],
   "window_display": false
  }
 },
 "nbformat": 4,
 "nbformat_minor": 2
}
