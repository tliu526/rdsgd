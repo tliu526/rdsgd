{
 "cells": [
  {
   "cell_type": "markdown",
   "metadata": {},
   "source": [
    "# Description"
   ]
  },
  {
   "cell_type": "markdown",
   "metadata": {},
   "source": [
    "Notebook for loading simulation results for Figure 2."
   ]
  },
  {
   "cell_type": "markdown",
   "metadata": {},
   "source": [
    "# 1. Imports"
   ]
  },
  {
   "cell_type": "code",
   "execution_count": 1,
   "metadata": {},
   "outputs": [],
   "source": [
    "import matplotlib.pyplot as plt\n",
    "import matplotlib.patches as mpatches\n",
    "import numpy as np\n",
    "import os\n",
    "import pandas as pd\n",
    "import pingouin as pg\n",
    "import pickle\n",
    "import seaborn as sns\n",
    "import sys\n",
    "\n",
    "from tqdm import tqdm\n",
    "\n",
    "# user imports\n",
    "sys.path.append(\"../../\")\n",
    "\n",
    "from utils.pwr import *"
   ]
  },
  {
   "cell_type": "markdown",
   "metadata": {},
   "source": [
    "# 2. Load simulated results data"
   ]
  },
  {
   "cell_type": "markdown",
   "metadata": {},
   "source": [
    "## Simulation constants"
   ]
  },
  {
   "cell_type": "code",
   "execution_count": 2,
   "metadata": {},
   "outputs": [],
   "source": [
    "n_trials = 500\n",
    "fuzzy_gaps = [0.2, 0.3, 0.4, 0.5, 0.6, 0.7, 0.8]\n",
    "alpha = 0.05\n",
    "\n",
    "low_cutoff = 0.25\n",
    "hi_cutoff = 0.75\n",
    "\n",
    "seeds = range(0, 401, 100)"
   ]
  },
  {
   "cell_type": "code",
   "execution_count": 3,
   "metadata": {},
   "outputs": [],
   "source": [
    "RESULTS_DIR = \"../../results/aaai/\""
   ]
  },
  {
   "cell_type": "markdown",
   "metadata": {},
   "source": [
    "## Baseline discovery"
   ]
  },
  {
   "cell_type": "code",
   "execution_count": 41,
   "metadata": {},
   "outputs": [
    {
     "name": "stderr",
     "output_type": "stream",
     "text": [
      "100%|██████████| 7/7 [00:21<00:00,  3.04s/it]\n"
     ]
    }
   ],
   "source": [
    "baseline_result_dict = {}\n",
    "\n",
    "for fuzzy_gap in tqdm(fuzzy_gaps):\n",
    "    error_dict = {\n",
    "        'x': {\n",
    "            'fp': 0,\n",
    "            'lower_fn': 0,\n",
    "            'upper_fn': 0\n",
    "        },\n",
    "\n",
    "        'covar': {\n",
    "            'fp': 0\n",
    "        },\n",
    "    }\n",
    "    pvals = {}\n",
    "    for seed in seeds:\n",
    "        with open(f\"../../experiments/aaai/baseline_discovery/seed{seed}/blended_rdd_fixed_bw_{fuzzy_gap}.pkl\", \"rb\") as f:\n",
    "            results = pickle.load(f)\n",
    "            for result in results:\n",
    "                x_thresholds = [np.round(c, decimals=2) for c in result['x'].keys()]\n",
    "                if low_cutoff not in x_thresholds:\n",
    "                    error_dict['x']['lower_fn'] += 1\n",
    "                else: \n",
    "                    x_thresholds.remove(0.25)\n",
    "\n",
    "                if hi_cutoff not in x_thresholds:\n",
    "                    error_dict['x']['upper_fn'] += 1\n",
    "                else:\n",
    "                    x_thresholds.remove(0.75)\n",
    "\n",
    "                error_dict['x']['fp'] += len(x_thresholds)\n",
    "                error_dict['covar']['fp'] += len(result['covar'].keys())\n",
    "\n",
    "            \n",
    "    baseline_result_dict[fuzzy_gap] = error_dict       \n"
   ]
  },
  {
   "cell_type": "code",
   "execution_count": 45,
   "metadata": {},
   "outputs": [],
   "source": [
    "pickle.dump(baseline_result_dict, open(os.path.join(RESULTS_DIR, \"blend_baseline_results.dict\"), \"wb\"))"
   ]
  },
  {
   "cell_type": "markdown",
   "metadata": {},
   "source": [
    "## Subgroup discovery"
   ]
  },
  {
   "cell_type": "code",
   "execution_count": 46,
   "metadata": {},
   "outputs": [
    {
     "name": "stderr",
     "output_type": "stream",
     "text": [
      "  0%|          | 0/7 [00:00<?, ?it/s]invalid value encountered in sqrt\n",
      " 86%|████████▌ | 6/7 [23:15<03:53, 233.18s/it]"
     ]
    },
    {
     "name": "stdout",
     "output_type": "stream",
     "text": [
      "0.6\n",
      "0.6\n",
      "0.1\n",
      "0.7\n",
      "0.55\n",
      "0.9\n",
      "0.9\n",
      "0.85\n",
      "0.75\n",
      "0.6\n",
      "0.65\n",
      "0.75\n",
      "0.95\n"
     ]
    },
    {
     "name": "stderr",
     "output_type": "stream",
     "text": [
      "100%|██████████| 7/7 [27:06<00:00, 232.33s/it]\n"
     ]
    }
   ],
   "source": [
    "subgroup_results_dict = {}\n",
    "\n",
    "for fuzzy_gap in tqdm(fuzzy_gaps):\n",
    "    pvals = {}\n",
    "    for seed in seeds:\n",
    "        with open(f\"../../experiments/aaai/policy_tree_discovery/seed{seed}/blended_rdd_fixed_bw_{fuzzy_gap}.pkl\", \"rb\") as f:\n",
    "            results = pickle.load(f)    \n",
    "\n",
    "\n",
    "        for idx, (result, n_tests) in enumerate(results):\n",
    "            cur_trial = seed + idx\n",
    "            \n",
    "            x_dict = result['x']\n",
    "            covar_dict = result['covar']\n",
    "            x_thresholds = [np.round(c, decimals=2) for c in x_dict.keys()]\n",
    "            \n",
    "            pvals[cur_trial] = {\n",
    "                'x_all': {},\n",
    "                'x_net_benefit': {},\n",
    "                'covar_all': {},\n",
    "                'covar_net_benefit': {}\n",
    "            }\n",
    "            \n",
    "            \n",
    "            \n",
    "            for x_cutoff in x_thresholds:\n",
    "                nodes = x_dict[x_cutoff]\n",
    "                if x_cutoff not in pvals[cur_trial]['x_all']:\n",
    "                    pvals[cur_trial]['x_all'][x_cutoff] = []\n",
    "                    pvals[cur_trial]['x_net_benefit'][x_cutoff] = []\n",
    "                                  \n",
    "                for node in nodes:\n",
    "                    if node['llr_results'] is None:\n",
    "                        print(x_cutoff)\n",
    "                        continue\n",
    "                    \n",
    "                    pvals[cur_trial]['x_all'][x_cutoff].append(node['llr_results'].pvalues['z'])\n",
    "                    \n",
    "                    if node['net_benefit'] > 0:\n",
    "                        pvals[cur_trial]['x_net_benefit'][x_cutoff].append(node['llr_results'].pvalues['z'])\n",
    "                    \n",
    "            for covar_cutoff in covar_dict.keys():\n",
    "                \n",
    "                if covar_cutoff not in pvals[cur_trial]['covar_all']:\n",
    "                    pvals[cur_trial]['covar_all'][covar_cutoff] = []\n",
    "                    pvals[cur_trial]['covar_net_benefit'][covar_cutoff] = []\n",
    "                    \n",
    "                nodes = covar_dict[covar_cutoff]\n",
    "\n",
    "                for node in nodes:\n",
    "                    if node['llr_results'] is None:\n",
    "                        print(covar_cutoff)\n",
    "                        continue\n",
    "                    \n",
    "                    pvals[cur_trial]['covar_all'][covar_cutoff].append(node['llr_results'].pvalues['z'])\n",
    "                    \n",
    "                    if node['net_benefit'] > 0:\n",
    "                        pvals[cur_trial]['covar_net_benefit'][covar_cutoff].append(node['llr_results'].pvalues['z'])\n",
    "        del results\n",
    "        \n",
    "    subgroup_results_dict[fuzzy_gap] = pvals\n"
   ]
  },
  {
   "cell_type": "markdown",
   "metadata": {},
   "source": [
    "## Compute corrected p-values"
   ]
  },
  {
   "cell_type": "code",
   "execution_count": 82,
   "metadata": {},
   "outputs": [
    {
     "name": "stderr",
     "output_type": "stream",
     "text": [
      "100%|██████████| 7/7 [00:06<00:00,  1.15it/s]\n"
     ]
    }
   ],
   "source": [
    "alpha = 0.05\n",
    "low_cutoff = 0.25\n",
    "upper_cutoff = 0.75\n",
    "\n",
    "#tp_all = {}\n",
    "\n",
    "nb_dict = {}\n",
    "\n",
    "subgroup_trial_dict = {}\n",
    "\n",
    "for gap in tqdm(fuzzy_gaps):\n",
    "    gap_dict = {\n",
    "        'upper_tp': 0,\n",
    "        'lower_tp': 0,\n",
    "        'fp': 0,\n",
    "        'tot_tests': 0\n",
    "    }\n",
    "    \n",
    "    trial_gap_dict = {\n",
    "        'lower': [],\n",
    "        'upper': []\n",
    "    }\n",
    "    for trial in range(500):\n",
    "        trial_df = pval_df[(pval_df['trial'] == trial) & (pval_df['gap'] == gap)]\n",
    "        gap_dict['tot_tests'] += trial_df.shape[0]\n",
    "        \n",
    "        reject, _ = pg.multicomp(trial_df['pval'].values, method='bonf', alpha=0.05)\n",
    "        sig_df = trial_df[reject]\n",
    "        \n",
    "        if low_cutoff in list(sig_df['cutoff']):\n",
    "            gap_dict['lower_tp'] += 1\n",
    "            trial_gap_dict['lower'].append(1)\n",
    "        else:\n",
    "            trial_gap_dict['lower'].append(0)\n",
    "            \n",
    "        if upper_cutoff in list(sig_df['cutoff']):\n",
    "            gap_dict['upper_tp'] += 1\n",
    "            trial_gap_dict['upper'].append(1)\n",
    "        else:\n",
    "            trial_gap_dict['upper'].append(0)\n",
    "\n",
    "            \n",
    "        # remaining sig values are false positives\n",
    "        fp_df = sig_df[~sig_df['cutoff'].isin([low_cutoff, upper_cutoff])]\n",
    "        gap_dict['fp'] += fp_df.shape[0]\n",
    "        \n",
    "    nb_dict[gap] = gap_dict\n",
    "    subgroup_trial_dict[gap] = trial_gap_dict\n",
    "        "
   ]
  },
  {
   "cell_type": "code",
   "execution_count": 52,
   "metadata": {},
   "outputs": [
    {
     "data": {
      "text/plain": [
       "{0.2: {'upper_tp': 47, 'lower_tp': 43, 'fp': 77, 'tot_tests': 30822},\n",
       " 0.3: {'upper_tp': 141, 'lower_tp': 120, 'fp': 112, 'tot_tests': 32733},\n",
       " 0.4: {'upper_tp': 274, 'lower_tp': 273, 'fp': 144, 'tot_tests': 33547},\n",
       " 0.5: {'upper_tp': 428, 'lower_tp': 420, 'fp': 216, 'tot_tests': 33983},\n",
       " 0.6: {'upper_tp': 493, 'lower_tp': 484, 'fp': 404, 'tot_tests': 34128},\n",
       " 0.7: {'upper_tp': 500, 'lower_tp': 499, 'fp': 741, 'tot_tests': 34103},\n",
       " 0.8: {'upper_tp': 500, 'lower_tp': 500, 'fp': 1654, 'tot_tests': 33961}}"
      ]
     },
     "execution_count": 52,
     "metadata": {},
     "output_type": "execute_result"
    }
   ],
   "source": [
    "nb_dict"
   ]
  },
  {
   "cell_type": "code",
   "execution_count": 53,
   "metadata": {},
   "outputs": [],
   "source": [
    "pickle.dump(nb_dict, open(os.path.join(RESULTS_DIR, \"policy_tree_net_benefit.dict\"), \"wb\"), -1)"
   ]
  },
  {
   "cell_type": "markdown",
   "metadata": {},
   "source": [
    "# Load Herlands et al. results"
   ]
  },
  {
   "cell_type": "code",
   "execution_count": 77,
   "metadata": {},
   "outputs": [],
   "source": [
    "HERLANDS_RESULT_PATH = \"../../../herlands-lord3/results/\"\n",
    "\n",
    "herlands_dict = {}\n",
    "\n",
    "herlands_trial_dict = {}\n",
    "\n",
    "for gap in fuzzy_gaps:\n",
    "    gap_dict = {\n",
    "        'upper_tp': 0,\n",
    "        'lower_tp': 0,\n",
    "        'fp': 0,\n",
    "        'tot_tests': 0\n",
    "    }\n",
    "    trial_gap_dict = {\n",
    "        'lower': [],\n",
    "        'upper': []\n",
    "    }\n",
    "    for seed in range(0, 500, 100):\n",
    "        results = pickle.load(open(os.path.join(HERLANDS_RESULT_PATH, \"seed{}/herlands_results_gap{}.pkl\".format(seed, gap)), \"rb\"))\n",
    "        gap_dict['lower_tp'] += sum([x[0] for x in results])\n",
    "        gap_dict['upper_tp'] += sum([x[1] for x in results])\n",
    "        gap_dict['tot_tests'] += sum([x[2] for x in results])\n",
    "\n",
    "        for lower, upper, *_ in results:\n",
    "            trial_gap_dict['lower'].append(int(lower))\n",
    "            trial_gap_dict['upper'].append(int(upper))\n",
    "        \n",
    "    herlands_dict[gap] = gap_dict\n",
    "    herlands_trial_dict[gap] = trial_gap_dict"
   ]
  },
  {
   "cell_type": "code",
   "execution_count": 63,
   "metadata": {},
   "outputs": [],
   "source": [
    "pickle.dump(herlands_dict, open(os.path.join(RESULTS_DIR, \"herlands_results.dict\"), \"wb\"), -1)"
   ]
  }
 ],
 "metadata": {
  "hide_input": false,
  "kernelspec": {
   "display_name": "Python 3 (ipykernel)",
   "language": "python",
   "name": "python3"
  },
  "language_info": {
   "codemirror_mode": {
    "name": "ipython",
    "version": 3
   },
   "file_extension": ".py",
   "mimetype": "text/x-python",
   "name": "python",
   "nbconvert_exporter": "python",
   "pygments_lexer": "ipython3",
   "version": "3.9.12"
  },
  "varInspector": {
   "cols": {
    "lenName": 16,
    "lenType": 16,
    "lenVar": 40
   },
   "kernels_config": {
    "python": {
     "delete_cmd_postfix": "",
     "delete_cmd_prefix": "del ",
     "library": "var_list.py",
     "varRefreshCmd": "print(var_dic_list())"
    },
    "r": {
     "delete_cmd_postfix": ") ",
     "delete_cmd_prefix": "rm(",
     "library": "var_list.r",
     "varRefreshCmd": "cat(var_dic_list()) "
    }
   },
   "types_to_exclude": [
    "module",
    "function",
    "builtin_function_or_method",
    "instance",
    "_Feature"
   ],
   "window_display": false
  }
 },
 "nbformat": 4,
 "nbformat_minor": 2
}
