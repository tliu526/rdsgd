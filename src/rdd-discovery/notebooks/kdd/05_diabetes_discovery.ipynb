{
 "cells": [
  {
   "cell_type": "markdown",
   "metadata": {},
   "source": [
    "# Description"
   ]
  },
  {
   "cell_type": "markdown",
   "metadata": {},
   "source": [
    "Notebook for diabetes diagnosis RDD discovery analysis. Exercises the end-to-end process of RDD discovery.\n",
    "\n",
    "**Note**: since the Optum claims data is private, this notebook will not run and is provided for information purposes only."
   ]
  },
  {
   "cell_type": "code",
   "execution_count": null,
   "metadata": {},
   "outputs": [],
   "source": [
    "import matplotlib.pyplot as plt\n",
    "import numpy as np\n",
    "import os\n",
    "import pandas as pd\n",
    "import pickle\n",
    "import seaborn as sns\n",
    "import sys\n",
    "\n",
    "from tqdm import tqdm"
   ]
  },
  {
   "cell_type": "code",
   "execution_count": null,
   "metadata": {
    "scrolled": false
   },
   "outputs": [],
   "source": [
    "# user imports \n",
    "sys.path.append(\"../../../optum-pipeline\")\n",
    "sys.path.append(\"../../\")\n",
    "\n",
    "\n",
    "from rddd.feat import gen_feat_df, get_descriptives\n",
    "from utils.rddd import policy_tree_discovery, test_discontinuity, create_feat_df"
   ]
  },
  {
   "cell_type": "code",
   "execution_count": null,
   "metadata": {},
   "outputs": [],
   "source": [
    "# notebook magics\n",
    "%load_ext autoreload\n",
    "\n",
    "%autoreload 2\n",
    "\n",
    "%matplotlib inline"
   ]
  },
  {
   "cell_type": "markdown",
   "metadata": {},
   "source": [
    "# Load data"
   ]
  },
  {
   "cell_type": "code",
   "execution_count": null,
   "metadata": {},
   "outputs": [],
   "source": [
    "%%time\n",
    "diabetes_df = pd.read_parquet(\"/REDACTED/diabetes_30d.parq\")"
   ]
  },
  {
   "cell_type": "markdown",
   "metadata": {},
   "source": [
    "# Clean data"
   ]
  },
  {
   "cell_type": "code",
   "execution_count": null,
   "metadata": {},
   "outputs": [],
   "source": [
    "%%time\n",
    "diabetes_feat = gen_feat_df(diabetes_df, rdd_cols=['indicator', 'lr_fmt'], compute_age=False)"
   ]
  },
  {
   "cell_type": "code",
   "execution_count": null,
   "metadata": {},
   "outputs": [],
   "source": [
    "diabetes_feat = diabetes_feat[(diabetes_feat['lr_fmt'] > 0) & (diabetes_feat['lr_fmt'] < 20)]"
   ]
  },
  {
   "cell_type": "code",
   "execution_count": null,
   "metadata": {},
   "outputs": [],
   "source": [
    "feat_cols = list(diabetes_feat.columns)\n",
    "feat_cols = feat_cols[2:]"
   ]
  },
  {
   "cell_type": "markdown",
   "metadata": {},
   "source": [
    "# Run assignment tree discovery"
   ]
  },
  {
   "cell_type": "code",
   "execution_count": null,
   "metadata": {},
   "outputs": [],
   "source": [
    "test_df = diabetes_feat.copy()\n",
    "test_df['lr_fmt'] = test_df['lr_fmt'].round(1)"
   ]
  },
  {
   "cell_type": "code",
   "execution_count": null,
   "metadata": {},
   "outputs": [],
   "source": [
    "import warnings\n",
    "warnings.filterwarnings(\"ignore\", module='sk.*')"
   ]
  },
  {
   "cell_type": "code",
   "execution_count": null,
   "metadata": {
    "scrolled": false
   },
   "outputs": [],
   "source": [
    "%%time\n",
    "grid_dict = {\n",
    "    'lr_fmt': np.round(np.arange(5, 7.6, 0.5), 1)\n",
    "}\n",
    "alpha = 0.05\n",
    "treat = 'indicator'\n",
    "running_cols = ['lr_fmt']\n",
    "random_state = 42\n",
    "\n",
    "sample_df = test_df[feat_cols + ['indicator', 'lr_fmt']]\n",
    "\n",
    "subgroup_dict, num_tests = policy_tree_discovery(sample_df,\n",
    "                                                 running_cols=running_cols,\n",
    "                                                 grid_dict=grid_dict,\n",
    "                                                 treat=treat,\n",
    "                                                 alpha=alpha,\n",
    "                                                 rescale=False,\n",
    "                                                 bw=0.4,\n",
    "                                                 random_state=random_state)"
   ]
  },
  {
   "cell_type": "code",
   "execution_count": null,
   "metadata": {},
   "outputs": [],
   "source": [
    "out_dir = \"/REDACTED/diabetes/\"\n",
    "subgroup_dict, num_tests = pickle.load(open(f\"{out_dir}/diabetes_subgroup_results.pkl\", \"rb\"))"
   ]
  },
  {
   "cell_type": "code",
   "execution_count": null,
   "metadata": {},
   "outputs": [],
   "source": [
    "sel_nodes = []\n",
    "alpha = 0.05\n",
    "for cutoff, nodes in subgroup_dict['lr_fmt'].items():\n",
    "    for node in nodes:\n",
    "        # we need to consider the root node\n",
    "        if (node['llr_results'] is not None):\n",
    "            if ((node['net_benefit'] > 0) or (len(node['rule_path']) == 1)) and (node['llr_results'].pvalues['z'] < alpha / num_tests):\n",
    "                sel_nodes.append((cutoff, node))"
   ]
  }
 ],
 "metadata": {
  "hide_input": false,
  "kernelspec": {
   "display_name": "Python 3 (ipykernel)",
   "language": "python",
   "name": "python3"
  },
  "language_info": {
   "codemirror_mode": {
    "name": "ipython",
    "version": 3
   },
   "file_extension": ".py",
   "mimetype": "text/x-python",
   "name": "python",
   "nbconvert_exporter": "python",
   "pygments_lexer": "ipython3",
   "version": "3.9.12"
  },
  "varInspector": {
   "cols": {
    "lenName": 16,
    "lenType": 16,
    "lenVar": 40
   },
   "kernels_config": {
    "python": {
     "delete_cmd_postfix": "",
     "delete_cmd_prefix": "del ",
     "library": "var_list.py",
     "varRefreshCmd": "print(var_dic_list())"
    },
    "r": {
     "delete_cmd_postfix": ") ",
     "delete_cmd_prefix": "rm(",
     "library": "var_list.r",
     "varRefreshCmd": "cat(var_dic_list()) "
    }
   },
   "types_to_exclude": [
    "module",
    "function",
    "builtin_function_or_method",
    "instance",
    "_Feature"
   ],
   "window_display": false
  }
 },
 "nbformat": 4,
 "nbformat_minor": 4
}
