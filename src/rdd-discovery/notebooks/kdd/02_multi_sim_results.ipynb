{
 "cells": [
  {
   "cell_type": "markdown",
   "metadata": {},
   "source": [
    "# Description\n",
    "\n",
    "Runs and processes the multi-dimensional covariate simulation results."
   ]
  },
  {
   "cell_type": "markdown",
   "metadata": {},
   "source": [
    "# Imports"
   ]
  },
  {
   "cell_type": "code",
   "execution_count": 2,
   "metadata": {},
   "outputs": [],
   "source": [
    "import matplotlib.pyplot as plt\n",
    "import matplotlib.patches as mpatches\n",
    "import multiprocessing\n",
    "import numpy as np\n",
    "import os\n",
    "import pandas as pd\n",
    "import pingouin as pg\n",
    "\n",
    "\n",
    "import pickle\n",
    "import seaborn as sns\n",
    "import sklearn\n",
    "import sys\n",
    "from tqdm import tqdm\n",
    "\n",
    "# to hide warnings for pretty notebook rendering in repo\n",
    "import warnings\n",
    "warnings.filterwarnings('ignore')\n",
    "\n",
    "# user imports\n",
    "sys.path.append(\"../../\")\n",
    "\n",
    "from utils.sim import *\n",
    "from utils.rddd import *\n",
    "from utils.pwr import *"
   ]
  },
  {
   "cell_type": "code",
   "execution_count": 3,
   "metadata": {},
   "outputs": [],
   "source": [
    "%load_ext autoreload\n",
    "%autoreload 2\n",
    "%matplotlib inline"
   ]
  },
  {
   "cell_type": "code",
   "execution_count": 4,
   "metadata": {},
   "outputs": [],
   "source": [
    "def _multidim_wrapper(seed, n_feats):\n",
    "    regression_dict = dict(n_informative=n_feats, \n",
    "                               noise=0, \n",
    "                               n_features=n_feats)\n",
    "        \n",
    "    df = generate_blended_rdd_with_covars(seed, n, fuzzy_gap=fuzzy_gap, take=0.05, reg_dict=regression_dict)\n",
    "    print(df['cutoff'].value_counts())\n",
    "\n",
    "\n",
    "    running_cols = ['x']#, 'covar']\n",
    "    treat = 't'    \n",
    "    # we use a fixed bandwidth to simplify power analysis\n",
    "    bw = 0.25\n",
    "    alpha = 0.05\n",
    "\n",
    "    grid_dict = {\n",
    "        'x': np.arange(0.05, 0.96, 0.05),\n",
    "    }\n",
    "\n",
    "    result, num_tests = policy_tree_discovery(df.drop(['comply_coeff', 'p', 'z', 'cutoff'], axis='columns', errors='ignore'), running_cols, grid_dict, treat=treat, bw=bw,\n",
    "                                   alpha=alpha, omit_mask=True, random_state=seed)\n",
    "    \n",
    "    return seed, result, num_tests"
   ]
  },
  {
   "cell_type": "code",
   "execution_count": 16,
   "metadata": {},
   "outputs": [
    {
     "name": "stdout",
     "output_type": "stream",
     "text": [
      "CPU times: user 13min 26s, sys: 1min 21s, total: 14min 47s\n",
      "Wall time: 3h 7min 2s\n"
     ]
    }
   ],
   "source": [
    "%%time\n",
    "%%capture\n",
    "# we'll fix both sample size and fuzzy gap\n",
    "n = 1000\n",
    "fuzzy_gap = 0.5\n",
    "n_trials = 500\n",
    "\n",
    "RESULT_DIR = \"../../results/kdd/multidim_xgrid/\"\n",
    "\n",
    "for n_feats in [2, 4, 8, 16]:\n",
    "    f_args = [(seed, n_feats) for seed in range(n_trials)]\n",
    "    \n",
    "    with multiprocessing.Pool(4) as pool:\n",
    "        results = pool.starmap(_multidim_wrapper, f_args)\n",
    "        \n",
    "        pickle.dump(results, open(\"{}n_feats{}.pkl\".format(RESULT_DIR, n_feats), \"wb\"), -1)\n",
    "    "
   ]
  },
  {
   "cell_type": "markdown",
   "metadata": {},
   "source": [
    "# Process results"
   ]
  },
  {
   "cell_type": "code",
   "execution_count": 17,
   "metadata": {},
   "outputs": [
    {
     "name": "stderr",
     "output_type": "stream",
     "text": [
      "100%|██████████| 4/4 [07:56<00:00, 119.25s/it]"
     ]
    },
    {
     "name": "stdout",
     "output_type": "stream",
     "text": [
      "CPU times: user 7min 43s, sys: 14.4 s, total: 7min 58s\n",
      "Wall time: 7min 56s\n"
     ]
    },
    {
     "name": "stderr",
     "output_type": "stream",
     "text": [
      "\n"
     ]
    }
   ],
   "source": [
    "%%time\n",
    "all_pwr_dict = {}\n",
    "alpha = 0.05\n",
    "n_feat = 8\n",
    "\n",
    "for n_feat in tqdm([2, 4, 8, 16]):\n",
    "    res = pickle.load(open(\"{}n_feats{}.pkl\".format(RESULT_DIR, n_feat), \"rb\"))\n",
    "    pwr_dict = {\n",
    "        \"lower_all\": [],\n",
    "        \"upper_all\": [],\n",
    "        \"lower_max\": [],\n",
    "        \"upper_max\": []\n",
    "    }\n",
    "\n",
    "    for seed, result, n_tests in res:\n",
    "        cur_trial = seed\n",
    "        x_dict = result['x']\n",
    "\n",
    "        for x_cutoff, label in [(0.25, \"lower\"), (0.75, \"upper\")]:\n",
    "            nodes = x_dict[x_cutoff]\n",
    "            pwrs = []\n",
    "            for node in nodes:\n",
    "\n",
    "                if ((node['net_benefit'] > 0) or len(node['rule_path']) == 1) and node['llr_results'].pvalues['z'] < (alpha / n_tests):\n",
    "                    sig_power = rdd_power(node['llr_results'].params['z'], node['llr_results'].std_errors['z']**2, alpha=alpha / n_tests)\n",
    "                    pwrs.append(sig_power)\n",
    "                    pwr_dict[\"{}_all\".format(label)].append(sig_power)\n",
    "            if len(pwrs) > 0:\n",
    "                pwr_dict[\"{}_max\".format(label)].append(max(pwrs))\n",
    "\n",
    "    all_pwr_dict[n_feat] = pwr_dict"
   ]
  },
  {
   "cell_type": "code",
   "execution_count": 18,
   "metadata": {},
   "outputs": [],
   "source": [
    "pickle.dump(all_pwr_dict, open(\"../../results/kdd/multdim_pwr_xgrid.dict\", \"wb\"), -1)"
   ]
  }
 ],
 "metadata": {
  "hide_input": false,
  "kernelspec": {
   "display_name": "Python 3 (ipykernel)",
   "language": "python",
   "name": "python3"
  },
  "language_info": {
   "codemirror_mode": {
    "name": "ipython",
    "version": 3
   },
   "file_extension": ".py",
   "mimetype": "text/x-python",
   "name": "python",
   "nbconvert_exporter": "python",
   "pygments_lexer": "ipython3",
   "version": "3.9.12"
  },
  "varInspector": {
   "cols": {
    "lenName": 16,
    "lenType": 16,
    "lenVar": 40
   },
   "kernels_config": {
    "python": {
     "delete_cmd_postfix": "",
     "delete_cmd_prefix": "del ",
     "library": "var_list.py",
     "varRefreshCmd": "print(var_dic_list())"
    },
    "r": {
     "delete_cmd_postfix": ") ",
     "delete_cmd_prefix": "rm(",
     "library": "var_list.r",
     "varRefreshCmd": "cat(var_dic_list()) "
    }
   },
   "types_to_exclude": [
    "module",
    "function",
    "builtin_function_or_method",
    "instance",
    "_Feature"
   ],
   "window_display": false
  }
 },
 "nbformat": 4,
 "nbformat_minor": 2
}
