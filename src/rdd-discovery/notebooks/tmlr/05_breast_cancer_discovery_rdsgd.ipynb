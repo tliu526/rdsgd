{
 "cells": [
  {
   "cell_type": "markdown",
   "metadata": {},
   "source": [
    "# Description"
   ]
  },
  {
   "cell_type": "markdown",
   "metadata": {},
   "source": [
    "Notebook for breast cancer screening RDD discovery analysis. Exercises the end-to-end process of RDD discovery."
   ]
  },
  {
   "cell_type": "code",
   "execution_count": null,
   "metadata": {},
   "outputs": [],
   "source": [
    "import matplotlib.pyplot as plt\n",
    "import numpy as np\n",
    "import os\n",
    "import pandas as pd\n",
    "import pickle\n",
    "import seaborn as sns\n",
    "import sys\n",
    "\n",
    "from tqdm import tqdm"
   ]
  },
  {
   "cell_type": "code",
   "execution_count": null,
   "metadata": {},
   "outputs": [],
   "source": [
    "# sample split for TMLR rebuttal\n",
    "from sklearn.model_selection import train_test_split"
   ]
  },
  {
   "cell_type": "code",
   "execution_count": null,
   "metadata": {},
   "outputs": [],
   "source": [
    "# user imports \n",
    "sys.path.append(\"../../\")\n",
    "\n",
    "from rddd.feat import gen_feat_df, get_descriptives\n",
    "#from rddd.rddd import policy_tree_discovery, test_discontinuity, create_feat_df"
   ]
  },
  {
   "cell_type": "code",
   "execution_count": null,
   "metadata": {},
   "outputs": [],
   "source": [
    "sys.path.append(\"/home/liutony/optum-pipeline/notebooks/tmlr/\")\n",
    "\n",
    "import rdsgd"
   ]
  },
  {
   "cell_type": "code",
   "execution_count": null,
   "metadata": {},
   "outputs": [],
   "source": [
    "# notebook magics\n",
    "%load_ext autoreload\n",
    "\n",
    "%autoreload 2\n",
    "\n",
    "%matplotlib inline"
   ]
  },
  {
   "cell_type": "markdown",
   "metadata": {},
   "source": [
    "# Load data"
   ]
  },
  {
   "cell_type": "code",
   "execution_count": null,
   "metadata": {
    "scrolled": true
   },
   "outputs": [],
   "source": [
    "%%time\n",
    "bc_df = pd.read_parquet(\"/project/liu_optum_causal_inference/data/breast_cancer/merge/breast_cancer.parq\")"
   ]
  },
  {
   "cell_type": "code",
   "execution_count": null,
   "metadata": {},
   "outputs": [],
   "source": [
    "bc_df.columns"
   ]
  },
  {
   "cell_type": "markdown",
   "metadata": {},
   "source": [
    "# Clean data"
   ]
  },
  {
   "cell_type": "code",
   "execution_count": null,
   "metadata": {},
   "outputs": [],
   "source": [
    "%%time\n",
    "bc_feat = gen_feat_df(bc_df)"
   ]
  },
  {
   "cell_type": "code",
   "execution_count": null,
   "metadata": {},
   "outputs": [],
   "source": [
    "bc_feat.dtypes"
   ]
  },
  {
   "cell_type": "markdown",
   "metadata": {},
   "source": [
    "# Run assignment tree discovery"
   ]
  },
  {
   "cell_type": "code",
   "execution_count": null,
   "metadata": {},
   "outputs": [],
   "source": [
    "test_df = bc_feat.copy()"
   ]
  },
  {
   "cell_type": "code",
   "execution_count": null,
   "metadata": {},
   "outputs": [],
   "source": [
    "import warnings\n",
    "warnings.filterwarnings(\"ignore\", module='sk.*')"
   ]
  },
  {
   "cell_type": "code",
   "execution_count": null,
   "metadata": {},
   "outputs": [],
   "source": [
    "%%time\n",
    "grid_dict = {\n",
    "    'age': np.arange(40, 61, 5)\n",
    "}\n",
    "alpha = 0.05\n",
    "treat = 'indicator'\n",
    "running_cols = ['age']\n",
    "bw = 4\n",
    "tree_kwargs = {\n",
    "    'max_depth': 2,\n",
    "    'min_balancedness_tol': 0.3,\n",
    "}\n",
    "\n",
    "random_state = 42\n",
    "\n",
    "# downsample for memory issues\n",
    "sample_df = test_df.copy()"
   ]
  },
  {
   "cell_type": "code",
   "execution_count": null,
   "metadata": {},
   "outputs": [],
   "source": [
    "# add in sample splitting\n",
    "s1_df, s2_df = train_test_split(sample_df, test_size=0.5, random_state=random_state)"
   ]
  },
  {
   "cell_type": "code",
   "execution_count": null,
   "metadata": {},
   "outputs": [],
   "source": [
    "%%time\n",
    "subgroup_dict, num_tests = rdsgd.rd_subgroup_discovery(s1_df,\n",
    "                                                 running_cols=running_cols,\n",
    "                                                 grid_dict=grid_dict,\n",
    "                                                 treat=treat,\n",
    "                                                 alpha=alpha,\n",
    "                                                 rescale=False,\n",
    "                                                 omit_mask=True,\n",
    "                                                 bw=bw,\n",
    "                                                 #tree_kwargs=tree_kwargs,\n",
    "                                                 #random_state=random_state\n",
    "                                                )"
   ]
  },
  {
   "cell_type": "code",
   "execution_count": null,
   "metadata": {},
   "outputs": [],
   "source": [
    "for cutoff, nodes in subgroup_dict['age'].items():\n",
    "    for node in nodes:\n",
    "        rule_path = node['rule_path']\n",
    "        holdout = s2_df.copy()\n",
    "        for rule in rule_path[:-1]:\n",
    "            if rule.path_dir == '<':\n",
    "                holdout = holdout[holdout[rule.feature] < rule.threshold]\n",
    "            elif rule.path_dir == '>=':\n",
    "                holdout = holdout[holdout[rule.feature] >= rule.threshold]\n",
    "            elif rule.path_dir == '<=':\n",
    "                holdout = holdout[holdout[rule.feature] <= rule.threshold]\n",
    "            elif rule.path_dir == '>':\n",
    "                holdout = holdout[holdout[rule.feature] > rule.threshold]\n",
    "            elif rule.path_dir == '==':\n",
    "                holdout = holdout[holdout[rule.feature] == rule.threshold]\n",
    "\n",
    "        llr_results, _, _ = rdsgd.test_discontinuity(holdout, cutoff, 'age', treat=treat, bw=bw, kernel='triangular')\n",
    "        node['llr_results'] = llr_results"
   ]
  },
  {
   "cell_type": "code",
   "execution_count": null,
   "metadata": {},
   "outputs": [],
   "source": [
    "subgroup_dict['age'][40]"
   ]
  },
  {
   "cell_type": "code",
   "execution_count": null,
   "metadata": {},
   "outputs": [],
   "source": [
    "out_dir = \"/project/liu_optum_causal_inference/results/tmlr_sample_split/\""
   ]
  },
  {
   "cell_type": "code",
   "execution_count": null,
   "metadata": {},
   "outputs": [],
   "source": [
    "pickle.dump((subgroup_dict, num_tests), open(f\"{out_dir}/breast_cancer_subgroup_results_tmlr.pkl\", \"wb\"), -1)"
   ]
  },
  {
   "cell_type": "markdown",
   "metadata": {},
   "source": [
    "# Extract baseline and subgroup data"
   ]
  },
  {
   "cell_type": "code",
   "execution_count": null,
   "metadata": {},
   "outputs": [],
   "source": [
    "sorted_nodes = sorted(sel_nodes, key=lambda x: x[1]['posthoc_pwr'], reverse=True)"
   ]
  },
  {
   "cell_type": "code",
   "execution_count": null,
   "metadata": {},
   "outputs": [],
   "source": [
    "cutoff = 40\n",
    "running = 'age'\n",
    "bw = 4\n",
    "baseline_df = create_feat_df(sample_df, running=running, \n",
    "                             cutoff=cutoff, bw=bw) "
   ]
  },
  {
   "cell_type": "code",
   "execution_count": null,
   "metadata": {},
   "outputs": [],
   "source": [
    "baseline_df['in_subgroup'] = (sorted_nodes[2][1]['subgroup_mask']).astype(int)\n",
    "\n",
    "baseline_df[['age', 'indicator', 'in_subgroup']].to_parquet(\"/project/liu_optum_causal_inference/results/breast_cancer_running.parq\")\n",
    "\n",
    "#baseline_df[sorted_nodes[2][1]['subgroup_mask']].copy()"
   ]
  },
  {
   "cell_type": "code",
   "execution_count": null,
   "metadata": {},
   "outputs": [],
   "source": [
    "for col in baseline_df.columns:\n",
    "    get_descriptives(baseline_df, col)"
   ]
  },
  {
   "cell_type": "code",
   "execution_count": null,
   "metadata": {},
   "outputs": [],
   "source": [
    "baseline_df['age'].describe()"
   ]
  }
 ],
 "metadata": {
  "kernelspec": {
   "display_name": "Python 3",
   "language": "python",
   "name": "python3"
  },
  "language_info": {
   "codemirror_mode": {
    "name": "ipython",
    "version": 3
   },
   "file_extension": ".py",
   "mimetype": "text/x-python",
   "name": "python",
   "nbconvert_exporter": "python",
   "pygments_lexer": "ipython3",
   "version": "3.8.12"
  }
 },
 "nbformat": 4,
 "nbformat_minor": 4
}
