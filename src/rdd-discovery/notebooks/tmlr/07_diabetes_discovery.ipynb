{
 "cells": [
  {
   "cell_type": "markdown",
   "metadata": {},
   "source": [
    "# Description"
   ]
  },
  {
   "cell_type": "markdown",
   "metadata": {},
   "source": [
    "Notebook for diabetes screening RDD discovery analysis. Exercises the end-to-end process of RDD discovery."
   ]
  },
  {
   "cell_type": "code",
   "execution_count": null,
   "metadata": {},
   "outputs": [],
   "source": [
    "import matplotlib.pyplot as plt\n",
    "import numpy as np\n",
    "import os\n",
    "import pandas as pd\n",
    "import pickle\n",
    "import seaborn as sns\n",
    "import sys\n",
    "\n",
    "from tqdm import tqdm"
   ]
  },
  {
   "cell_type": "code",
   "execution_count": null,
   "metadata": {},
   "outputs": [],
   "source": [
    "# sample split for TMLR rebuttal\n",
    "from sklearn.model_selection import train_test_split"
   ]
  },
  {
   "cell_type": "code",
   "execution_count": null,
   "metadata": {},
   "outputs": [],
   "source": [
    "# user imports \n",
    "sys.path.append(\"../../\")\n",
    "\n",
    "from rddd.feat import gen_feat_df, get_descriptives\n",
    "#from rdsgd import *"
   ]
  },
  {
   "cell_type": "code",
   "execution_count": null,
   "metadata": {},
   "outputs": [],
   "source": [
    "sys.path.append(\"/home/liutony/optum-pipeline/notebooks/tmlr/\")\n",
    "\n",
    "import rdsgd"
   ]
  },
  {
   "cell_type": "code",
   "execution_count": null,
   "metadata": {},
   "outputs": [],
   "source": [
    "# notebook magics\n",
    "%load_ext autoreload\n",
    "\n",
    "%autoreload 2\n",
    "\n",
    "%matplotlib inline"
   ]
  },
  {
   "cell_type": "markdown",
   "metadata": {},
   "source": [
    "# Load data"
   ]
  },
  {
   "cell_type": "code",
   "execution_count": null,
   "metadata": {},
   "outputs": [],
   "source": [
    "%%time\n",
    "diabetes_df = pd.read_parquet(\"/project/liu_optum_causal_inference/data/diabetes/merge/diabetes.parq\")"
   ]
  },
  {
   "cell_type": "markdown",
   "metadata": {},
   "source": [
    "## Load up rx data\n"
   ]
  },
  {
   "cell_type": "code",
   "execution_count": null,
   "metadata": {},
   "outputs": [],
   "source": [
    "rx_path = \"/project/liu_optum_causal_inference/archive/threshold-optimization/rx_data/dm_data\"\n",
    "\n",
    "START_DATE = 2001\n",
    "END_DATE = 2016\n",
    "\n",
    "rx_df = pd.DataFrame()\n",
    "for yr in range(START_DATE, END_DATE+1):\n",
    "    for q in range(1, 5):\n",
    "\n",
    "        df = pd.read_pickle(\"{0}/ses_r{1}q{2}_rx_dm.df\".format(rx_path, yr, q)) \n",
    "        df.columns = df.columns.str.lower()\n",
    "        #print(df.columns)\n",
    "        rx_df = pd.concat([rx_df, df[['patid', 'fill_dt']]])\n"
   ]
  },
  {
   "cell_type": "code",
   "execution_count": null,
   "metadata": {},
   "outputs": [],
   "source": [
    "rx_df['patid'] = rx_df['patid'].astype(int)"
   ]
  },
  {
   "cell_type": "code",
   "execution_count": null,
   "metadata": {},
   "outputs": [],
   "source": [
    "rx_df.to_parquet(\"/project/liu_optum_causal_inference/data/rx_dm.parquet\")\n",
    "#met_df = pd.read_parquet(\"/project/liu_optum_causal_inference/data/rx_met.parquet\")"
   ]
  },
  {
   "cell_type": "code",
   "execution_count": null,
   "metadata": {},
   "outputs": [],
   "source": [
    "rx_df = rx_df.set_index('patid')"
   ]
  },
  {
   "cell_type": "code",
   "execution_count": null,
   "metadata": {},
   "outputs": [],
   "source": [
    "dm_id = diabetes_df[['patid', 'fst_dt_pre']]"
   ]
  },
  {
   "cell_type": "code",
   "execution_count": null,
   "metadata": {},
   "outputs": [],
   "source": [
    "dm_id = dm_id.set_index('patid')"
   ]
  },
  {
   "cell_type": "code",
   "execution_count": null,
   "metadata": {},
   "outputs": [],
   "source": [
    "dm_id = dm_id.sort_index()\n",
    "rx_df = rx_df.sort_index()"
   ]
  },
  {
   "cell_type": "code",
   "execution_count": null,
   "metadata": {},
   "outputs": [],
   "source": [
    "dm_met = dm_id.merge(rx_df, left_index=True, right_index=True, how='left')"
   ]
  },
  {
   "cell_type": "code",
   "execution_count": null,
   "metadata": {},
   "outputs": [],
   "source": [
    "dm_met.shape"
   ]
  },
  {
   "cell_type": "code",
   "execution_count": null,
   "metadata": {},
   "outputs": [],
   "source": [
    "dm_met['fill_dt'].isna().sum()\n",
    "\n",
    "prior_rx = dm_met[dm_met['fst_dt_pre'] > dm_met['fill_dt']]\n",
    "prior_rx = prior_rx.reset_index()\n",
    "prior_rx_patids = prior_rx['patid'].unique()"
   ]
  },
  {
   "cell_type": "code",
   "execution_count": null,
   "metadata": {},
   "outputs": [],
   "source": [
    "diabetes_df['prior_rx_indicator'] = diabetes_df['patid'].isin(prior_rx_patids).astype(int)\n",
    "diabetes_df['prior_rx_indicator'].value_counts()"
   ]
  },
  {
   "cell_type": "markdown",
   "metadata": {},
   "source": [
    "# Clean data"
   ]
  },
  {
   "cell_type": "code",
   "execution_count": null,
   "metadata": {},
   "outputs": [],
   "source": [
    "sel_dm = diabetes_df[(diabetes_df['fst_dt_pre'] <= '2017-01-01') & (diabetes_df['prior_rx_indicator'] == 0)]"
   ]
  },
  {
   "cell_type": "code",
   "execution_count": null,
   "metadata": {},
   "outputs": [],
   "source": [
    "%%time\n",
    "#rdd_dm\n",
    "diabetes_feat = gen_feat_df(sel_dm, rdd_cols=['indicator', 'lr_fmt'], compute_age=False)#, 'loinc_cd', 'diag'])"
   ]
  },
  {
   "cell_type": "code",
   "execution_count": null,
   "metadata": {},
   "outputs": [],
   "source": [
    "diabetes_feat.shape"
   ]
  },
  {
   "cell_type": "code",
   "execution_count": null,
   "metadata": {},
   "outputs": [],
   "source": [
    "diabetes_feat['lr_fmt'].describe().to_frame().style.format(\"{:.2f}\")"
   ]
  },
  {
   "cell_type": "code",
   "execution_count": null,
   "metadata": {},
   "outputs": [],
   "source": [
    "diabetes_feat = diabetes_feat[(diabetes_feat['lr_fmt'] > 0) & (diabetes_feat['lr_fmt'] < 20)]"
   ]
  },
  {
   "cell_type": "code",
   "execution_count": null,
   "metadata": {},
   "outputs": [],
   "source": [
    "feat_cols = list(diabetes_feat.columns)\n",
    "feat_cols = feat_cols[2:]\n",
    "feat_cols"
   ]
  },
  {
   "cell_type": "markdown",
   "metadata": {},
   "source": [
    "# Run assignment tree discovery"
   ]
  },
  {
   "cell_type": "code",
   "execution_count": null,
   "metadata": {},
   "outputs": [],
   "source": [
    "test_df = diabetes_feat.copy()\n",
    "test_df['lr_fmt'] = test_df['lr_fmt'].round(1)\n"
   ]
  },
  {
   "cell_type": "code",
   "execution_count": null,
   "metadata": {
    "scrolled": true
   },
   "outputs": [],
   "source": [
    "import warnings\n",
    "warnings.filterwarnings(\"ignore\", module='sk.*')"
   ]
  },
  {
   "cell_type": "code",
   "execution_count": null,
   "metadata": {},
   "outputs": [],
   "source": [
    "feat_cols"
   ]
  },
  {
   "cell_type": "code",
   "execution_count": null,
   "metadata": {},
   "outputs": [],
   "source": [
    "%%time\n",
    "grid_dict = {\n",
    "    'lr_fmt': np.round(np.arange(6, 7.6, 0.1), 1)\n",
    "}\n",
    "alpha = 0.05\n",
    "treat = 'indicator'\n",
    "running_cols = ['lr_fmt']\n",
    "random_state = 42\n",
    "bw = 0.4\n",
    "sample_df = test_df[feat_cols + ['indicator', 'lr_fmt']]\n"
   ]
  },
  {
   "cell_type": "code",
   "execution_count": null,
   "metadata": {},
   "outputs": [],
   "source": [
    "\n",
    "# add in sample splitting\n",
    "s1_df, s2_df = train_test_split(sample_df, test_size=0.5, random_state=random_state)"
   ]
  },
  {
   "cell_type": "code",
   "execution_count": null,
   "metadata": {},
   "outputs": [],
   "source": [
    "\n",
    "subgroup_dict, num_tests = rdsgd.rd_subgroup_discovery(s1_df,\n",
    "                                                 running_cols=running_cols,\n",
    "                                                 grid_dict=grid_dict,\n",
    "                                                 treat=treat,\n",
    "                                                 alpha=alpha,\n",
    "                                                 rescale=False,\n",
    "                                                 bw=bw,\n",
    "                                                 omit_mask=True,\n",
    "                                                 kernel='rectangular'\n",
    "                                                 #tree_kwargs=tree_kwargs, \n",
    "                                                 #random_state=random_state\n",
    "                                                )"
   ]
  },
  {
   "cell_type": "code",
   "execution_count": null,
   "metadata": {},
   "outputs": [],
   "source": [
    "# update llr_results with holdout\n",
    "for cutoff, nodes in subgroup_dict['lr_fmt'].items():\n",
    "    for node in nodes:\n",
    "        rule_path = node['rule_path']\n",
    "        holdout = s2_df.copy()\n",
    "        for rule in rule_path[:-1]:\n",
    "            if rule.path_dir == '<':\n",
    "                holdout = holdout[holdout[rule.feature] < rule.threshold]\n",
    "            elif rule.path_dir == '>=':\n",
    "                holdout = holdout[holdout[rule.feature] >= rule.threshold]\n",
    "            elif rule.path_dir == '<=':\n",
    "                holdout = holdout[holdout[rule.feature] <= rule.threshold]\n",
    "            elif rule.path_dir == '>':\n",
    "                holdout = holdout[holdout[rule.feature] > rule.threshold]\n",
    "            elif rule.path_dir == '==':\n",
    "                holdout = holdout[holdout[rule.feature] == rule.threshold]\n",
    "\n",
    "        llr_results, _, _ = rdsgd.test_discontinuity(holdout, cutoff, 'lr_fmt', treat=treat, bw=bw, kernel='rectangular')\n",
    "        node['llr_results'] = llr_results"
   ]
  },
  {
   "cell_type": "code",
   "execution_count": null,
   "metadata": {},
   "outputs": [],
   "source": [
    "out_dir = \"/project/liu_optum_causal_inference/results/tmlr_sample_split\"\n",
    "pickle.dump((subgroup_dict, num_tests), open(f\"{out_dir}/diabetes_subgroup_results_tmlr.pkl\", \"wb\"))\n",
    "\n",
    "#subgroup_dict, num_tests = )"
   ]
  },
  {
   "cell_type": "markdown",
   "metadata": {},
   "source": [
    "# Extract baseline and subgroup data"
   ]
  },
  {
   "cell_type": "code",
   "execution_count": null,
   "metadata": {},
   "outputs": [],
   "source": [
    "sorted_nodes = sorted(sel_nodes, key=lambda x: x[1]['posthoc_pwr'], reverse=True)"
   ]
  },
  {
   "cell_type": "code",
   "execution_count": null,
   "metadata": {},
   "outputs": [],
   "source": [
    "cutoff = 6.5\n",
    "running = 'lr_fmt'\n",
    "bw = 0.4\n",
    "baseline_df = create_feat_df(diabetes_feat, running=running, \n",
    "                             cutoff=cutoff, bw=bw)"
   ]
  },
  {
   "cell_type": "code",
   "execution_count": null,
   "metadata": {
    "scrolled": true
   },
   "outputs": [],
   "source": [
    "baseline_df['in_subgroup'] = (sorted_nodes[0][1]['subgroup_mask']).astype(int)\n",
    "\n",
    "baseline_df[[running, 'indicator', 'in_subgroup']].to_parquet(\"/project/liu_optum_causal_inference/results/diabetes_running.parq\")"
   ]
  },
  {
   "cell_type": "code",
   "execution_count": null,
   "metadata": {},
   "outputs": [],
   "source": [
    "baseline_df['in_subgroup'].value_counts()"
   ]
  },
  {
   "cell_type": "code",
   "execution_count": null,
   "metadata": {},
   "outputs": [],
   "source": [
    "baseline_df.shape"
   ]
  },
  {
   "cell_type": "code",
   "execution_count": null,
   "metadata": {},
   "outputs": [],
   "source": [
    "for col in baseline_df.columns:\n",
    "    get_descriptives(baseline_df, col)"
   ]
  },
  {
   "cell_type": "code",
   "execution_count": null,
   "metadata": {},
   "outputs": [],
   "source": [
    "baseline_df['age'].describe()"
   ]
  }
 ],
 "metadata": {
  "kernelspec": {
   "display_name": "Python 3",
   "language": "python",
   "name": "python3"
  },
  "language_info": {
   "codemirror_mode": {
    "name": "ipython",
    "version": 3
   },
   "file_extension": ".py",
   "mimetype": "text/x-python",
   "name": "python",
   "nbconvert_exporter": "python",
   "pygments_lexer": "ipython3",
   "version": "3.8.12"
  }
 },
 "nbformat": 4,
 "nbformat_minor": 4
}
