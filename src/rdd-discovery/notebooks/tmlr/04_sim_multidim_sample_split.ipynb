{
 "cells": [
  {
   "cell_type": "markdown",
   "metadata": {},
   "source": [
    "# Description\n",
    "\n",
    "Notebook for processing multi-dimensional simulated case, with sample splitting\n",
    "evaluation"
   ]
  },
  {
   "cell_type": "markdown",
   "metadata": {},
   "source": [
    "# Imports"
   ]
  },
  {
   "cell_type": "code",
   "execution_count": 1,
   "metadata": {},
   "outputs": [],
   "source": [
    "import matplotlib.pyplot as plt\n",
    "import matplotlib.patches as mpatches\n",
    "import multiprocessing\n",
    "import numpy as np\n",
    "import os\n",
    "import pandas as pd\n",
    "import pingouin as pg\n",
    "\n",
    "\n",
    "import pickle\n",
    "import seaborn as sns\n",
    "import sklearn\n",
    "import sys\n",
    "from tqdm import tqdm\n",
    "\n",
    "# to hide warnings for pretty notebook rendering in repo\n",
    "import warnings\n",
    "warnings.filterwarnings('ignore')\n",
    "\n",
    "# user imports\n",
    "sys.path.append(\"../../\")\n",
    "\n",
    "from utils.sim import *\n",
    "from utils.rddd import *\n",
    "from utils.pwr import *"
   ]
  },
  {
   "cell_type": "code",
   "execution_count": 2,
   "metadata": {},
   "outputs": [],
   "source": [
    "RESULT_DIR = \"../kdd23/\""
   ]
  },
  {
   "cell_type": "code",
   "execution_count": 30,
   "metadata": {},
   "outputs": [],
   "source": [
    "fuzzy_gap = 0.5\n",
    "n = 1000\n",
    "\n",
    "bw = 0.25\n",
    "\n",
    "running_cols = ['x']\n",
    "treat = 't'\n",
    "seed_offset = 2000\n",
    "\n",
    "\n",
    "def process_multidim_results_sample_split(n_feat, seeds):\n",
    "    \"\"\"Process multidim results\"\"\"\n",
    "    alpha = 0.05\n",
    "    pwr_dict = {\n",
    "            \"lower_all\": [],\n",
    "            \"upper_all\": [],\n",
    "            \"lower_max\": [],\n",
    "            \"upper_max\": []\n",
    "    }\n",
    "\n",
    "    for seed in range(seeds):\n",
    "        res = pickle.load(open(os.path.join(RESULT_DIR, \"seed{}_nfeats_{}_multidim.pkl\".format(seed, n_feat)), \"rb\"))\n",
    "        \n",
    "        result, n_tests = res\n",
    "        cur_trial = seed\n",
    "        x_dict = result['x']\n",
    "\n",
    "        for x_cutoff, label in [(0.25, \"lower\"), (0.75, \"upper\")]:\n",
    "            nodes = x_dict[x_cutoff]\n",
    "            pwrs = []\n",
    "            for node in nodes:\n",
    "\n",
    "                if node['llr_results'] is None:\n",
    "                        continue\n",
    "                regression_dict = dict(n_informative=n_feat, \n",
    "                                       noise=0, \n",
    "                                       n_features=n_feat)\n",
    "                # generate an iid hold-out set\n",
    "                holdout = generate_blended_rdd_with_covars(seed + seed_offset, \n",
    "                                                           n, \n",
    "                                                           fuzzy_gap=fuzzy_gap, \n",
    "                                                           take=0.05, \n",
    "                                                           reg_dict=regression_dict)\n",
    "\n",
    "                # apply the rule to the holdout set\n",
    "                rule_path = node['rule_path']\n",
    "                for rule in rule_path[:-1]:\n",
    "                    if rule.path_dir == '<':\n",
    "                        holdout = holdout[holdout[rule.feature] < rule.threshold]\n",
    "                    elif rule.path_dir == '>=':\n",
    "                        holdout = holdout[holdout[rule.feature] >= rule.threshold]\n",
    "                    elif rule.path_dir == '<=':\n",
    "                        holdout = holdout[holdout[rule.feature] <= rule.threshold]\n",
    "                    elif rule.path_dir == '>':\n",
    "                        holdout = holdout[holdout[rule.feature] > rule.threshold]\n",
    "                    elif rule.path_dir == '==':\n",
    "                        holdout = holdout[holdout[rule.feature] == rule.threshold]\n",
    "\n",
    "                llr_results, _, _ = test_discontinuity(holdout, x_cutoff, 'x', treat='t', bw=bw, kernel='triangular')\n",
    "\n",
    "                if ((node['neff_pval'] < alpha) or len(node['rule_path']) == 1) and llr_results.pvalues['z'] < (alpha / n_tests):\n",
    "                    sig_power = rdd_power(llr_results.params['z'], llr_results.std_errors['z']**2, alpha=alpha / n_tests)\n",
    "                    pwrs.append(sig_power)\n",
    "                    pwr_dict[\"{}_all\".format(label)].append(sig_power)\n",
    "            if len(pwrs) > 0:\n",
    "                pwr_dict[\"{}_max\".format(label)].append(max(pwrs))\n",
    "\n",
    "    return (n_feat, pwr_dict)\n"
   ]
  },
  {
   "cell_type": "code",
   "execution_count": 31,
   "metadata": {},
   "outputs": [
    {
     "name": "stdout",
     "output_type": "stream",
     "text": [
      "CPU times: user 4 µs, sys: 1 µs, total: 5 µs\n",
      "Wall time: 10 µs\n"
     ]
    }
   ],
   "source": [
    "%time\n",
    "seeds = 500\n",
    "f_args = [(n_feat, seeds) for n_feat in [2, 4, 8, 16]]\n",
    "\n",
    "with multiprocessing.Pool(4) as pool:\n",
    "    results = pool.starmap(process_multidim_results_sample_split, f_args)\n"
   ]
  },
  {
   "cell_type": "code",
   "execution_count": 37,
   "metadata": {},
   "outputs": [],
   "source": [
    "pickle.dump(results, open(\"../../results/tmlr/multidim.pkl\", \"wb\"))"
   ]
  },
  {
   "cell_type": "code",
   "execution_count": 36,
   "metadata": {},
   "outputs": [
    {
     "name": "stdout",
     "output_type": "stream",
     "text": [
      "n_feat: 2\n",
      "\tlower_all: 0.820 +/- 0.154\n",
      "\tupper_all: 0.800 +/- 0.157\n",
      "\tlower_max: 0.841 +/- 0.150\n",
      "\tupper_max: 0.816 +/- 0.157\n",
      "n_feat: 4\n",
      "\tlower_all: 0.791 +/- 0.146\n",
      "\tupper_all: 0.791 +/- 0.155\n",
      "\tlower_max: 0.807 +/- 0.142\n",
      "\tupper_max: 0.803 +/- 0.154\n",
      "n_feat: 8\n",
      "\tlower_all: 0.771 +/- 0.150\n",
      "\tupper_all: 0.776 +/- 0.158\n",
      "\tlower_max: 0.779 +/- 0.149\n",
      "\tupper_max: 0.785 +/- 0.156\n",
      "n_feat: 16\n",
      "\tlower_all: 0.787 +/- 0.155\n",
      "\tupper_all: 0.778 +/- 0.155\n",
      "\tlower_max: 0.789 +/- 0.154\n",
      "\tupper_max: 0.780 +/- 0.155\n"
     ]
    }
   ],
   "source": [
    "for n_feat, res in results:\n",
    "    print(\"n_feat: {}\".format(n_feat))\n",
    "    for k, v in res.items():\n",
    "        print(\"\\t{}: {:.3f} +/- {:.3f}\".format(k, np.mean(v), np.std(v)))"
   ]
  }
 ],
 "metadata": {
  "hide_input": false,
  "kernelspec": {
   "display_name": "Python 3",
   "language": "python",
   "name": "python3"
  },
  "language_info": {
   "codemirror_mode": {
    "name": "ipython",
    "version": 3
   },
   "file_extension": ".py",
   "mimetype": "text/x-python",
   "name": "python",
   "nbconvert_exporter": "python",
   "pygments_lexer": "ipython3",
   "version": "3.7.7"
  },
  "varInspector": {
   "cols": {
    "lenName": 16,
    "lenType": 16,
    "lenVar": 40
   },
   "kernels_config": {
    "python": {
     "delete_cmd_postfix": "",
     "delete_cmd_prefix": "del ",
     "library": "var_list.py",
     "varRefreshCmd": "print(var_dic_list())"
    },
    "r": {
     "delete_cmd_postfix": ") ",
     "delete_cmd_prefix": "rm(",
     "library": "var_list.r",
     "varRefreshCmd": "cat(var_dic_list()) "
    }
   },
   "types_to_exclude": [
    "module",
    "function",
    "builtin_function_or_method",
    "instance",
    "_Feature"
   ],
   "window_display": false
  },
  "vscode": {
   "interpreter": {
    "hash": "c5e384680b37c811d5c050863cd2e1b7b7fb22fa41e6ef4def208bf90ddd8ddd"
   }
  }
 },
 "nbformat": 4,
 "nbformat_minor": 2
}
